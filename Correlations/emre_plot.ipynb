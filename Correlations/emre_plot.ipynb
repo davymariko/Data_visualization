{
 "cells": [
  {
   "cell_type": "code",
   "execution_count": 2,
   "metadata": {},
   "outputs": [],
   "source": [
    "import pandas as pd \n",
    "import matplotlib.pyplot as plt"
   ]
  },
  {
   "cell_type": "code",
   "execution_count": 3,
   "metadata": {},
   "outputs": [
    {
     "data": {
      "text/html": [
       "<div>\n",
       "<style scoped>\n",
       "    .dataframe tbody tr th:only-of-type {\n",
       "        vertical-align: middle;\n",
       "    }\n",
       "\n",
       "    .dataframe tbody tr th {\n",
       "        vertical-align: top;\n",
       "    }\n",
       "\n",
       "    .dataframe thead th {\n",
       "        text-align: right;\n",
       "    }\n",
       "</style>\n",
       "<table border=\"1\" class=\"dataframe\">\n",
       "  <thead>\n",
       "    <tr style=\"text-align: right;\">\n",
       "      <th></th>\n",
       "      <th>locality</th>\n",
       "      <th>house_is</th>\n",
       "      <th>property_subtype</th>\n",
       "      <th>price</th>\n",
       "      <th>sale</th>\n",
       "      <th>rooms_number</th>\n",
       "      <th>area</th>\n",
       "      <th>kitchen_has</th>\n",
       "      <th>furnished</th>\n",
       "      <th>open_fire</th>\n",
       "      <th>terrace</th>\n",
       "      <th>terrace_area</th>\n",
       "      <th>garden</th>\n",
       "      <th>garden_area</th>\n",
       "      <th>land_surface</th>\n",
       "      <th>land_plot_surface</th>\n",
       "      <th>facades_number</th>\n",
       "      <th>swimming_pool_has</th>\n",
       "      <th>building_state</th>\n",
       "      <th>region</th>\n",
       "    </tr>\n",
       "  </thead>\n",
       "  <tbody>\n",
       "    <tr>\n",
       "      <th>0</th>\n",
       "      <td>4180</td>\n",
       "      <td>0.0</td>\n",
       "      <td>MIXED_USE_BUILDING</td>\n",
       "      <td>295000.0</td>\n",
       "      <td>Unknown</td>\n",
       "      <td>3.0</td>\n",
       "      <td>242.0</td>\n",
       "      <td>1.0</td>\n",
       "      <td>0.0</td>\n",
       "      <td>0.0</td>\n",
       "      <td>1.0</td>\n",
       "      <td>36.0</td>\n",
       "      <td>1.0</td>\n",
       "      <td>1000.0</td>\n",
       "      <td>1403.0</td>\n",
       "      <td>1403.0</td>\n",
       "      <td>0.0</td>\n",
       "      <td>0.0</td>\n",
       "      <td>GOOD</td>\n",
       "      <td>Wallonia</td>\n",
       "    </tr>\n",
       "    <tr>\n",
       "      <th>1</th>\n",
       "      <td>8730</td>\n",
       "      <td>1.0</td>\n",
       "      <td>VILLA</td>\n",
       "      <td>675000.0</td>\n",
       "      <td>Unknown</td>\n",
       "      <td>4.0</td>\n",
       "      <td>349.0</td>\n",
       "      <td>1.0</td>\n",
       "      <td>0.0</td>\n",
       "      <td>0.0</td>\n",
       "      <td>0.0</td>\n",
       "      <td>0.0</td>\n",
       "      <td>1.0</td>\n",
       "      <td>977.0</td>\n",
       "      <td>1526.0</td>\n",
       "      <td>1526.0</td>\n",
       "      <td>0.0</td>\n",
       "      <td>0.0</td>\n",
       "      <td>AS_NEW</td>\n",
       "      <td>Flanders</td>\n",
       "    </tr>\n",
       "    <tr>\n",
       "      <th>2</th>\n",
       "      <td>4020</td>\n",
       "      <td>0.0</td>\n",
       "      <td>APARTMENT_BLOCK</td>\n",
       "      <td>250000.0</td>\n",
       "      <td>Unknown</td>\n",
       "      <td>5.0</td>\n",
       "      <td>303.0</td>\n",
       "      <td>1.0</td>\n",
       "      <td>0.0</td>\n",
       "      <td>0.0</td>\n",
       "      <td>0.0</td>\n",
       "      <td>0.0</td>\n",
       "      <td>0.0</td>\n",
       "      <td>0.0</td>\n",
       "      <td>760.0</td>\n",
       "      <td>760.0</td>\n",
       "      <td>0.0</td>\n",
       "      <td>0.0</td>\n",
       "      <td>TO_RENOVATE</td>\n",
       "      <td>Wallonia</td>\n",
       "    </tr>\n",
       "    <tr>\n",
       "      <th>3</th>\n",
       "      <td>1200</td>\n",
       "      <td>1.0</td>\n",
       "      <td>HOUSE</td>\n",
       "      <td>545000.0</td>\n",
       "      <td>Unknown</td>\n",
       "      <td>4.0</td>\n",
       "      <td>235.0</td>\n",
       "      <td>1.0</td>\n",
       "      <td>1.0</td>\n",
       "      <td>0.0</td>\n",
       "      <td>0.0</td>\n",
       "      <td>0.0</td>\n",
       "      <td>0.0</td>\n",
       "      <td>0.0</td>\n",
       "      <td>63.0</td>\n",
       "      <td>63.0</td>\n",
       "      <td>0.0</td>\n",
       "      <td>0.0</td>\n",
       "      <td>JUST_RENOVATED</td>\n",
       "      <td>Brussels</td>\n",
       "    </tr>\n",
       "    <tr>\n",
       "      <th>4</th>\n",
       "      <td>1190</td>\n",
       "      <td>0.0</td>\n",
       "      <td>MIXED_USE_BUILDING</td>\n",
       "      <td>500000.0</td>\n",
       "      <td>Unknown</td>\n",
       "      <td>2.0</td>\n",
       "      <td>220.0</td>\n",
       "      <td>1.0</td>\n",
       "      <td>0.0</td>\n",
       "      <td>0.0</td>\n",
       "      <td>0.0</td>\n",
       "      <td>0.0</td>\n",
       "      <td>1.0</td>\n",
       "      <td>60.0</td>\n",
       "      <td>193.0</td>\n",
       "      <td>193.0</td>\n",
       "      <td>0.0</td>\n",
       "      <td>0.0</td>\n",
       "      <td>AS_NEW</td>\n",
       "      <td>Brussels</td>\n",
       "    </tr>\n",
       "  </tbody>\n",
       "</table>\n",
       "</div>"
      ],
      "text/plain": [
       "  locality  house_is    property_subtype     price     sale  rooms_number  \\\n",
       "0     4180       0.0  MIXED_USE_BUILDING  295000.0  Unknown           3.0   \n",
       "1     8730       1.0               VILLA  675000.0  Unknown           4.0   \n",
       "2     4020       0.0     APARTMENT_BLOCK  250000.0  Unknown           5.0   \n",
       "3     1200       1.0               HOUSE  545000.0  Unknown           4.0   \n",
       "4     1190       0.0  MIXED_USE_BUILDING  500000.0  Unknown           2.0   \n",
       "\n",
       "    area  kitchen_has  furnished  open_fire  terrace  terrace_area  garden  \\\n",
       "0  242.0          1.0        0.0        0.0      1.0          36.0     1.0   \n",
       "1  349.0          1.0        0.0        0.0      0.0           0.0     1.0   \n",
       "2  303.0          1.0        0.0        0.0      0.0           0.0     0.0   \n",
       "3  235.0          1.0        1.0        0.0      0.0           0.0     0.0   \n",
       "4  220.0          1.0        0.0        0.0      0.0           0.0     1.0   \n",
       "\n",
       "   garden_area  land_surface  land_plot_surface  facades_number  \\\n",
       "0       1000.0        1403.0             1403.0             0.0   \n",
       "1        977.0        1526.0             1526.0             0.0   \n",
       "2          0.0         760.0              760.0             0.0   \n",
       "3          0.0          63.0               63.0             0.0   \n",
       "4         60.0         193.0              193.0             0.0   \n",
       "\n",
       "   swimming_pool_has  building_state    region  \n",
       "0                0.0            GOOD  Wallonia  \n",
       "1                0.0          AS_NEW  Flanders  \n",
       "2                0.0     TO_RENOVATE  Wallonia  \n",
       "3                0.0  JUST_RENOVATED  Brussels  \n",
       "4                0.0          AS_NEW  Brussels  "
      ]
     },
     "execution_count": 3,
     "metadata": {},
     "output_type": "execute_result"
    }
   ],
   "source": [
    "df = pd.read_csv('../csv_files/cleaned_properties.csv', index_col=0)\n",
    "df.head()"
   ]
  },
  {
   "cell_type": "code",
   "execution_count": 4,
   "metadata": {},
   "outputs": [
    {
     "data": {
      "text/plain": [
       "(48126, 20)"
      ]
     },
     "execution_count": 4,
     "metadata": {},
     "output_type": "execute_result"
    }
   ],
   "source": [
    "df.shape"
   ]
  },
  {
   "cell_type": "code",
   "execution_count": 5,
   "metadata": {},
   "outputs": [
    {
     "data": {
      "text/plain": [
       "(921,)"
      ]
     },
     "execution_count": 5,
     "metadata": {},
     "output_type": "execute_result"
    }
   ],
   "source": [
    "df.locality.unique().shape"
   ]
  },
  {
   "cell_type": "markdown",
   "metadata": {},
   "source": [
    "## The most expensive and the cheapest price of 3-room and good-condition house by location in Belgium"
   ]
  },
  {
   "cell_type": "code",
   "execution_count": 49,
   "metadata": {},
   "outputs": [
    {
     "data": {
      "text/plain": [
       "(1369, 20)"
      ]
     },
     "execution_count": 49,
     "metadata": {},
     "output_type": "execute_result"
    }
   ],
   "source": [
    "house_locality = df.loc[(df.rooms_number==3) & (df.house_is==True) & (df.building_state=='GOOD')]\n",
    "house_locality.shape"
   ]
  },
  {
   "cell_type": "code",
   "execution_count": 50,
   "metadata": {},
   "outputs": [],
   "source": [
    "by_locality = house_locality.groupby('locality')['price'].mean()\n",
    "by_local = pd.DataFrame(by_locality)\n",
    "result_most = by_local[by_local.price>800000]\n",
    "result_less = by_local[by_local.price<120000]"
   ]
  },
  {
   "cell_type": "code",
   "execution_count": 51,
   "metadata": {},
   "outputs": [
    {
     "data": {
      "image/png": "[encoded data removed]",
      "text/plain": [
       "<Figure size 432x288 with 1 Axes>"
      ]
     },
     "metadata": {
      "needs_background": "light"
     },
     "output_type": "display_data"
    }
   ],
   "source": [
    "plt.bar(result_most.index, result_most.price)\n",
    "plt.show()"
   ]
  },
  {
   "cell_type": "code",
   "execution_count": 52,
   "metadata": {},
   "outputs": [
    {
     "data": {
      "image/png": "[encoded data removed]",
      "text/plain": [
       "<Figure size 432x288 with 1 Axes>"
      ]
     },
     "metadata": {
      "needs_background": "light"
     },
     "output_type": "display_data"
    }
   ],
   "source": [
    "plt.bar(result_less.index, result_less.price)\n",
    "plt.show()"
   ]
  },
  {
   "cell_type": "markdown",
   "metadata": {},
   "source": [
    "## The most expensive and the cheapest price of 3-room and good-condition house by location in Wallonia"
   ]
  },
  {
   "cell_type": "code",
   "execution_count": 53,
   "metadata": {},
   "outputs": [
    {
     "data": {
      "text/plain": [
       "(589, 20)"
      ]
     },
     "execution_count": 53,
     "metadata": {},
     "output_type": "execute_result"
    }
   ],
   "source": [
    "house_locality = df.loc[(df.rooms_number==3) & (df.house_is==True) & (df.building_state=='GOOD') & (df.region=='Wallonia')]\n",
    "house_locality.shape"
   ]
  },
  {
   "cell_type": "code",
   "execution_count": 54,
   "metadata": {},
   "outputs": [],
   "source": [
    "by_locality = house_locality.groupby('locality')['price'].mean()\n",
    "by_local = pd.DataFrame(by_locality)\n",
    "result_most = by_local[by_local.price>450000]\n",
    "result_less = by_local[by_local.price<150000]"
   ]
  },
  {
   "cell_type": "code",
   "execution_count": 61,
   "metadata": {},
   "outputs": [
    {
     "data": {
      "image/png": "[encoded data removed]",
      "text/plain": [
       "<Figure size 432x288 with 1 Axes>"
      ]
     },
     "metadata": {
      "needs_background": "light"
     },
     "output_type": "display_data"
    }
   ],
   "source": [
    "plt.bar(result_most.index, result_most.price)\n",
    "plt.show()"
   ]
  },
  {
   "cell_type": "code",
   "execution_count": 62,
   "metadata": {},
   "outputs": [
    {
     "data": {
      "image/png": "[encoded data removed]",
      "text/plain": [
       "<Figure size 432x288 with 1 Axes>"
      ]
     },
     "metadata": {
      "needs_background": "light"
     },
     "output_type": "display_data"
    }
   ],
   "source": [
    "plt.bar(result_less.index, result_less.price)\n",
    "plt.show()"
   ]
  },
  {
   "cell_type": "markdown",
   "metadata": {},
   "source": [
    "## The most expensive and the cheapest price of 3-room and good-condition house by location in Wallonia"
   ]
  },
  {
   "cell_type": "code",
   "execution_count": 56,
   "metadata": {},
   "outputs": [
    {
     "data": {
      "text/plain": [
       "(739, 20)"
      ]
     },
     "execution_count": 56,
     "metadata": {},
     "output_type": "execute_result"
    }
   ],
   "source": [
    "house_locality = df.loc[(df.rooms_number==3) & (df.house_is==True) & (df.building_state=='GOOD') & (df.region=='Flanders')]\n",
    "house_locality.shape"
   ]
  },
  {
   "cell_type": "code",
   "execution_count": 57,
   "metadata": {},
   "outputs": [],
   "source": [
    "by_locality = house_locality.groupby('locality')['price'].mean()\n",
    "by_local = pd.DataFrame(by_locality)\n",
    "result_most = by_local[by_local.price>700000]\n",
    "result_less = by_local[by_local.price<200000]"
   ]
  },
  {
   "cell_type": "code",
   "execution_count": 58,
   "metadata": {},
   "outputs": [
    {
     "data": {
      "image/png": "[encoded data removed]",
      "text/plain": [
       "<Figure size 432x288 with 1 Axes>"
      ]
     },
     "metadata": {
      "needs_background": "light"
     },
     "output_type": "display_data"
    }
   ],
   "source": [
    "plt.bar(result.index, result_most.price)\n",
    "plt.show()"
   ]
  },
  {
   "cell_type": "code",
   "execution_count": 59,
   "metadata": {},
   "outputs": [
    {
     "data": {
      "image/png": "[encoded data removed]",
      "text/plain": [
       "<Figure size 432x288 with 1 Axes>"
      ]
     },
     "metadata": {
      "needs_background": "light"
     },
     "output_type": "display_data"
    }
   ],
   "source": [
    "plt.bar(result_less.index, result_less.price)\n",
    "plt.show()"
   ]
  },
  {
   "cell_type": "code",
   "execution_count": null,
   "metadata": {},
   "outputs": [],
   "source": []
  },
  {
   "cell_type": "code",
   "execution_count": null,
   "metadata": {},
   "outputs": [],
   "source": []
  }
 ],
 "metadata": {
  "kernelspec": {
   "display_name": "Python 3",
   "language": "python",
   "name": "python3"
  },
  "language_info": {
   "codemirror_mode": {
    "name": "ipython",
    "version": 3
   },
   "file_extension": ".py",
   "mimetype": "text/x-python",
   "name": "python",
   "nbconvert_exporter": "python",
   "pygments_lexer": "ipython3",
   "version": "3.7.3"
  }
 },
 "nbformat": 4,
 "nbformat_minor": 2
}
