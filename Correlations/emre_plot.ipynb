{
 "cells": [
  {
   "cell_type": "code",
   "execution_count": 585,
   "metadata": {},
   "outputs": [],
   "source": [
    "import pandas as pd \n",
    "import matplotlib.pyplot as plt"
   ]
  },
  {
   "cell_type": "code",
   "execution_count": 635,
   "metadata": {},
   "outputs": [
    {
     "data": {
      "text/html": [
       "<div>\n",
       "<style scoped>\n",
       "    .dataframe tbody tr th:only-of-type {\n",
       "        vertical-align: middle;\n",
       "    }\n",
       "\n",
       "    .dataframe tbody tr th {\n",
       "        vertical-align: top;\n",
       "    }\n",
       "\n",
       "    .dataframe thead th {\n",
       "        text-align: right;\n",
       "    }\n",
       "</style>\n",
       "<table border=\"1\" class=\"dataframe\">\n",
       "  <thead>\n",
       "    <tr style=\"text-align: right;\">\n",
       "      <th></th>\n",
       "      <th>locality</th>\n",
       "      <th>house_is</th>\n",
       "      <th>property_subtype</th>\n",
       "      <th>price</th>\n",
       "      <th>sale</th>\n",
       "      <th>rooms_number</th>\n",
       "      <th>area</th>\n",
       "      <th>kitchen_has</th>\n",
       "      <th>furnished</th>\n",
       "      <th>open_fire</th>\n",
       "      <th>terrace</th>\n",
       "      <th>terrace_area</th>\n",
       "      <th>garden</th>\n",
       "      <th>garden_area</th>\n",
       "      <th>land_surface</th>\n",
       "      <th>land_plot_surface</th>\n",
       "      <th>facades_number</th>\n",
       "      <th>swimming_pool_has</th>\n",
       "      <th>building_state</th>\n",
       "      <th>region</th>\n",
       "    </tr>\n",
       "  </thead>\n",
       "  <tbody>\n",
       "    <tr>\n",
       "      <th>0</th>\n",
       "      <td>4180</td>\n",
       "      <td>0.0</td>\n",
       "      <td>MIXED_USE_BUILDING</td>\n",
       "      <td>295000.0</td>\n",
       "      <td>Unknown</td>\n",
       "      <td>3.0</td>\n",
       "      <td>242.0</td>\n",
       "      <td>1.0</td>\n",
       "      <td>0.0</td>\n",
       "      <td>0.0</td>\n",
       "      <td>1.0</td>\n",
       "      <td>36.0</td>\n",
       "      <td>1.0</td>\n",
       "      <td>1000.0</td>\n",
       "      <td>1403.0</td>\n",
       "      <td>1403.0</td>\n",
       "      <td>0.0</td>\n",
       "      <td>0.0</td>\n",
       "      <td>GOOD</td>\n",
       "      <td>Wallonia</td>\n",
       "    </tr>\n",
       "    <tr>\n",
       "      <th>1</th>\n",
       "      <td>8730</td>\n",
       "      <td>1.0</td>\n",
       "      <td>VILLA</td>\n",
       "      <td>675000.0</td>\n",
       "      <td>Unknown</td>\n",
       "      <td>4.0</td>\n",
       "      <td>349.0</td>\n",
       "      <td>1.0</td>\n",
       "      <td>0.0</td>\n",
       "      <td>0.0</td>\n",
       "      <td>0.0</td>\n",
       "      <td>NaN</td>\n",
       "      <td>1.0</td>\n",
       "      <td>977.0</td>\n",
       "      <td>1526.0</td>\n",
       "      <td>1526.0</td>\n",
       "      <td>0.0</td>\n",
       "      <td>0.0</td>\n",
       "      <td>AS_NEW</td>\n",
       "      <td>Flanders</td>\n",
       "    </tr>\n",
       "    <tr>\n",
       "      <th>2</th>\n",
       "      <td>4020</td>\n",
       "      <td>0.0</td>\n",
       "      <td>APARTMENT_BLOCK</td>\n",
       "      <td>250000.0</td>\n",
       "      <td>Unknown</td>\n",
       "      <td>5.0</td>\n",
       "      <td>303.0</td>\n",
       "      <td>1.0</td>\n",
       "      <td>0.0</td>\n",
       "      <td>0.0</td>\n",
       "      <td>0.0</td>\n",
       "      <td>NaN</td>\n",
       "      <td>0.0</td>\n",
       "      <td>NaN</td>\n",
       "      <td>760.0</td>\n",
       "      <td>760.0</td>\n",
       "      <td>0.0</td>\n",
       "      <td>0.0</td>\n",
       "      <td>TO_RENOVATE</td>\n",
       "      <td>Wallonia</td>\n",
       "    </tr>\n",
       "    <tr>\n",
       "      <th>3</th>\n",
       "      <td>1200</td>\n",
       "      <td>1.0</td>\n",
       "      <td>HOUSE</td>\n",
       "      <td>545000.0</td>\n",
       "      <td>Unknown</td>\n",
       "      <td>4.0</td>\n",
       "      <td>235.0</td>\n",
       "      <td>1.0</td>\n",
       "      <td>1.0</td>\n",
       "      <td>0.0</td>\n",
       "      <td>0.0</td>\n",
       "      <td>NaN</td>\n",
       "      <td>0.0</td>\n",
       "      <td>NaN</td>\n",
       "      <td>63.0</td>\n",
       "      <td>63.0</td>\n",
       "      <td>0.0</td>\n",
       "      <td>0.0</td>\n",
       "      <td>JUST_RENOVATED</td>\n",
       "      <td>Brussels</td>\n",
       "    </tr>\n",
       "    <tr>\n",
       "      <th>4</th>\n",
       "      <td>1190</td>\n",
       "      <td>0.0</td>\n",
       "      <td>MIXED_USE_BUILDING</td>\n",
       "      <td>500000.0</td>\n",
       "      <td>Unknown</td>\n",
       "      <td>2.0</td>\n",
       "      <td>220.0</td>\n",
       "      <td>1.0</td>\n",
       "      <td>0.0</td>\n",
       "      <td>0.0</td>\n",
       "      <td>0.0</td>\n",
       "      <td>NaN</td>\n",
       "      <td>1.0</td>\n",
       "      <td>60.0</td>\n",
       "      <td>193.0</td>\n",
       "      <td>193.0</td>\n",
       "      <td>0.0</td>\n",
       "      <td>0.0</td>\n",
       "      <td>AS_NEW</td>\n",
       "      <td>Brussels</td>\n",
       "    </tr>\n",
       "  </tbody>\n",
       "</table>\n",
       "</div>"
      ],
      "text/plain": [
       "  locality  house_is    property_subtype     price     sale  rooms_number  \\\n",
       "0     4180       0.0  MIXED_USE_BUILDING  295000.0  Unknown           3.0   \n",
       "1     8730       1.0               VILLA  675000.0  Unknown           4.0   \n",
       "2     4020       0.0     APARTMENT_BLOCK  250000.0  Unknown           5.0   \n",
       "3     1200       1.0               HOUSE  545000.0  Unknown           4.0   \n",
       "4     1190       0.0  MIXED_USE_BUILDING  500000.0  Unknown           2.0   \n",
       "\n",
       "    area  kitchen_has  furnished  open_fire  terrace  terrace_area  garden  \\\n",
       "0  242.0          1.0        0.0        0.0      1.0          36.0     1.0   \n",
       "1  349.0          1.0        0.0        0.0      0.0           NaN     1.0   \n",
       "2  303.0          1.0        0.0        0.0      0.0           NaN     0.0   \n",
       "3  235.0          1.0        1.0        0.0      0.0           NaN     0.0   \n",
       "4  220.0          1.0        0.0        0.0      0.0           NaN     1.0   \n",
       "\n",
       "   garden_area  land_surface  land_plot_surface  facades_number  \\\n",
       "0       1000.0        1403.0             1403.0             0.0   \n",
       "1        977.0        1526.0             1526.0             0.0   \n",
       "2          NaN         760.0              760.0             0.0   \n",
       "3          NaN          63.0               63.0             0.0   \n",
       "4         60.0         193.0              193.0             0.0   \n",
       "\n",
       "   swimming_pool_has  building_state    region  \n",
       "0                0.0            GOOD  Wallonia  \n",
       "1                0.0          AS_NEW  Flanders  \n",
       "2                0.0     TO_RENOVATE  Wallonia  \n",
       "3                0.0  JUST_RENOVATED  Brussels  \n",
       "4                0.0          AS_NEW  Brussels  "
      ]
     },
     "execution_count": 635,
     "metadata": {},
     "output_type": "execute_result"
    }
   ],
   "source": [
    "df = pd.read_csv('../csv_files/cleaned_properties.csv', index_col=0)\n",
    "df.head()"
   ]
  },
  {
   "cell_type": "code",
   "execution_count": 618,
   "metadata": {},
   "outputs": [
    {
     "data": {
      "text/plain": [
       "locality                        unknown\n",
       "house_is                            NaN\n",
       "property_subtype     Vrijstaande woning\n",
       "price                               365\n",
       "sale                            Unknown\n",
       "rooms_number                          4\n",
       "area                        1.11299e+06\n",
       "kitchen_has                         NaN\n",
       "furnished                             0\n",
       "open_fire                             0\n",
       "terrace                             NaN\n",
       "terrace_area                        NaN\n",
       "garden                              NaN\n",
       "garden_area                         NaN\n",
       "land_surface                        NaN\n",
       "land_plot_surface                 36526\n",
       "facades_number                      NaN\n",
       "swimming_pool_has                     1\n",
       "building_state                  unknown\n",
       "region                          unknown\n",
       "Name: 17821, dtype: object"
      ]
     },
     "execution_count": 618,
     "metadata": {},
     "output_type": "execute_result"
    }
   ],
   "source": [
    "df.iloc[df.area.idxmax()]"
   ]
  },
  {
   "cell_type": "code",
   "execution_count": null,
   "metadata": {},
   "outputs": [],
   "source": []
  },
  {
   "cell_type": "code",
   "execution_count": 587,
   "metadata": {},
   "outputs": [
    {
     "data": {
      "text/plain": [
       "(54037, 20)"
      ]
     },
     "execution_count": 587,
     "metadata": {},
     "output_type": "execute_result"
    }
   ],
   "source": [
    "df.shape"
   ]
  },
  {
   "cell_type": "code",
   "execution_count": 588,
   "metadata": {},
   "outputs": [
    {
     "data": {
      "text/plain": [
       "(969,)"
      ]
     },
     "execution_count": 588,
     "metadata": {},
     "output_type": "execute_result"
    }
   ],
   "source": [
    "df.locality.unique().shape"
   ]
  },
  {
   "cell_type": "code",
   "execution_count": 589,
   "metadata": {},
   "outputs": [],
   "source": [
    "def avarage_df(df):\n",
    "    by_locality = df.groupby('locality')['price'].mean()\n",
    "    by_local = pd.DataFrame(by_locality)\n",
    "    locality_max = by_local[by_local.price==by_local.price.max()].index[0]\n",
    "    locality_min = by_local[by_local.price==by_local.price.min()].index[0]\n",
    "    print('The avarage price of houses in the most expensive municipalities: ', by_local.price.max(), 'in', locality_max)\n",
    "    print('The avarage price of houses in the cheapest municipalities:', by_local.price.min(), 'in', locality_min)"
   ]
  },
  {
   "cell_type": "code",
   "execution_count": 590,
   "metadata": {},
   "outputs": [],
   "source": [
    "def median_df(df):\n",
    "    by_locality = df.groupby('locality')['price'].median()\n",
    "    by_local = pd.DataFrame(by_locality)\n",
    "    locality_max = by_local[by_local.price==by_local.price.max()].index[0]\n",
    "    locality_min = by_local[by_local.price==by_local.price.min()].index[0]\n",
    "    print('The median price of houses in the most expensive municipalities: ', by_local.price.max(), 'in', locality_max)\n",
    "    print('The median price of houses in the cheapest municipalities:', by_local.price.min(), 'in', locality_min)"
   ]
  },
  {
   "cell_type": "code",
   "execution_count": 591,
   "metadata": {},
   "outputs": [],
   "source": [
    "def per_square(df):\n",
    "    by_locality1 = df.groupby('locality')['price'].mean()\n",
    "    by_locality2 = df.groupby('locality')['area'].mean()\n",
    "    by_local1 = pd.DataFrame(by_locality1)\n",
    "    by_local2 = pd.DataFrame(by_locality2)\n",
    "\n",
    "    # Merge the DataFrames: o2o\n",
    "    o2o = pd.merge(left=by_local1, right=by_local2, left_on='locality', right_on='locality')\n",
    "    o2o['price_per_m2'] = o2o.price/o2o.area\n",
    "    locality_max = o2o[o2o.price_per_m2==o2o.price_per_m2.max()].index[0]\n",
    "    locality_min = o2o[o2o.price_per_m2==o2o.price_per_m2.min()].index[0]\n",
    "\n",
    "    print('The avarage price of square of houses in the most expensive municipalities : ', o2o.price_per_m2.max(), 'in', locality_max)\n",
    "    print('The avarage price of square of houses in the cheapest municipalities:', o2o.price_per_m2.min(), 'in', locality_min)    "
   ]
  },
  {
   "cell_type": "markdown",
   "metadata": {},
   "source": [
    "## The most expensive and the cheapest price of 3-room and good-condition house by location in Belgium"
   ]
  },
  {
   "cell_type": "code",
   "execution_count": 592,
   "metadata": {},
   "outputs": [
    {
     "data": {
      "text/plain": [
       "(1369, 20)"
      ]
     },
     "execution_count": 592,
     "metadata": {},
     "output_type": "execute_result"
    }
   ],
   "source": [
    "house_filtered = df.loc[(df.rooms_number==3) & (df.house_is==True) & (df.building_state=='GOOD')]\n",
    "house_filtered.shape"
   ]
  },
  {
   "cell_type": "code",
   "execution_count": 593,
   "metadata": {},
   "outputs": [],
   "source": [
    "by_locality = house_filtered.groupby('locality')['price'].mean()\n",
    "by_local = pd.DataFrame(by_locality)\n",
    "result_most = by_local[by_local.price>800000]\n",
    "result_less = by_local[by_local.price<120000]"
   ]
  },
  {
   "cell_type": "code",
   "execution_count": 656,
   "metadata": {},
   "outputs": [
    {
     "data": {
      "image/png": "[encoded data removed]",
      "text/plain": [
       "<Figure size 1080x288 with 2 Axes>"
      ]
     },
     "metadata": {
      "needs_background": "light"
     },
     "output_type": "display_data"
    }
   ],
   "source": [
    "plt.figure(figsize=(15,4))\n",
    "\n",
    "# Create plot axes for the first line plot\n",
    "plt.subplot(1, 2, 1) \n",
    "\n",
    "plt.bar(result_most.index, result_most.price)\n",
    "plt.xlabel('Location of Houses', fontsize=15)\n",
    "plt.ylabel('Price of Houses', fontsize=15)\n",
    "plt.title('The Most Expensive House', fontsize=20)\n",
    "\n",
    "# Create plot axes for the second line plot\n",
    "plt.subplot(1, 2, 2) \n",
    "\n",
    "plt.bar(result_less.index, result_less.price)\n",
    "plt.xlabel('Location of Houses', fontsize=15)\n",
    "plt.ylabel('Price of Houses', fontsize=15)\n",
    "plt.title('The Cheapest House', fontsize=20)\n",
    "\n",
    "plt.savefig(\"pictures/The most expensive and the cheapest price of 3-room and good-condition house by location in Belgium.png\")\n",
    "\n",
    "# Display the plot\n",
    "plt.show()"
   ]
  },
  {
   "cell_type": "markdown",
   "metadata": {},
   "source": [
    "### In avarage price"
   ]
  },
  {
   "cell_type": "code",
   "execution_count": 596,
   "metadata": {},
   "outputs": [
    {
     "name": "stdout",
     "output_type": "stream",
     "text": [
      "The avarage price of houses in the most expensive municipalities:  2400000.0 in 1060\n",
      "The avarage price of houses in the cheapest municipalities: 70000.0 in 7320\n"
     ]
    }
   ],
   "source": [
    "avarage_df(house_filtered)"
   ]
  },
  {
   "cell_type": "markdown",
   "metadata": {},
   "source": [
    "### In median price"
   ]
  },
  {
   "cell_type": "code",
   "execution_count": 597,
   "metadata": {},
   "outputs": [
    {
     "name": "stdout",
     "output_type": "stream",
     "text": [
      "The median price of houses in the most expensive municipalities:  2400000.0 in 1060\n",
      "The median price of houses in the cheapest municipalities: 70000.0 in 7320\n"
     ]
    }
   ],
   "source": [
    "median_df(house_filtered)"
   ]
  },
  {
   "cell_type": "markdown",
   "metadata": {},
   "source": [
    "### Per square meter"
   ]
  },
  {
   "cell_type": "code",
   "execution_count": 598,
   "metadata": {},
   "outputs": [
    {
     "name": "stdout",
     "output_type": "stream",
     "text": [
      "The avarage price of square of houses in the most expensive municipalities :  5882.35294117647 in 7850\n",
      "The avarage price of square of houses in the cheapest municipalities: 623.3333333333334 in 8780\n"
     ]
    }
   ],
   "source": [
    "per_square(house_filtered)"
   ]
  },
  {
   "cell_type": "markdown",
   "metadata": {},
   "source": [
    "## The most expensive and the cheapest price of 3-room and good-condition house by location in Wallonia"
   ]
  },
  {
   "cell_type": "code",
   "execution_count": 599,
   "metadata": {},
   "outputs": [
    {
     "data": {
      "text/plain": [
       "(589, 20)"
      ]
     },
     "execution_count": 599,
     "metadata": {},
     "output_type": "execute_result"
    }
   ],
   "source": [
    "house_filtered = df.loc[(df.rooms_number==3) & (df.house_is==True) & (df.building_state=='GOOD') & (df.region=='Wallonia')]\n",
    "house_filtered.shape"
   ]
  },
  {
   "cell_type": "code",
   "execution_count": 600,
   "metadata": {},
   "outputs": [],
   "source": [
    "by_locality = house_filtered.groupby('locality')['price'].mean()\n",
    "by_local = pd.DataFrame(by_locality)\n",
    "result_most = by_local[by_local.price>450000]\n",
    "result_less = by_local[by_local.price<120000]"
   ]
  },
  {
   "cell_type": "code",
   "execution_count": 630,
   "metadata": {},
   "outputs": [
    {
     "data": {
      "image/png": "[encoded data removed]",
      "text/plain": [
       "<Figure size 1080x288 with 2 Axes>"
      ]
     },
     "metadata": {
      "needs_background": "light"
     },
     "output_type": "display_data"
    }
   ],
   "source": [
    "plt.figure(figsize=(15,4))\n",
    "\n",
    "# Create plot axes for the first line plot\n",
    "plt.subplot(1, 2, 1) \n",
    "\n",
    "plt.bar(result_most.index, result_most.price)\n",
    "\n",
    "# Create plot axes for the second line plot\n",
    "plt.subplot(1, 2, 2) \n",
    "\n",
    "plt.bar(result_less.index, result_less.price)\n",
    "\n",
    "# Display the plot\n",
    "plt.show()"
   ]
  },
  {
   "cell_type": "markdown",
   "metadata": {},
   "source": [
    "### In avarage price"
   ]
  },
  {
   "cell_type": "code",
   "execution_count": 603,
   "metadata": {},
   "outputs": [
    {
     "name": "stdout",
     "output_type": "stream",
     "text": [
      "The avarage price of houses in the most expensive municipalities:  1014500.0 in 1332\n",
      "The avarage price of houses in the cheapest municipalities: 70000.0 in 7320\n"
     ]
    }
   ],
   "source": [
    "avarage_df(house_filtered)"
   ]
  },
  {
   "cell_type": "markdown",
   "metadata": {},
   "source": [
    "### In median price"
   ]
  },
  {
   "cell_type": "code",
   "execution_count": 604,
   "metadata": {},
   "outputs": [
    {
     "name": "stdout",
     "output_type": "stream",
     "text": [
      "The median price of houses in the most expensive municipalities:  1014500.0 in 1332\n",
      "The median price of houses in the cheapest municipalities: 70000.0 in 7320\n"
     ]
    }
   ],
   "source": [
    "median_df(house_filtered)"
   ]
  },
  {
   "cell_type": "markdown",
   "metadata": {},
   "source": [
    "### Per square meter"
   ]
  },
  {
   "cell_type": "code",
   "execution_count": 605,
   "metadata": {},
   "outputs": [
    {
     "name": "stdout",
     "output_type": "stream",
     "text": [
      "The avarage price of square of houses in the most expensive municipalities :  5882.35294117647 in 7850\n",
      "The avarage price of square of houses in the cheapest municipalities: 694.4444444444445 in 6830\n"
     ]
    }
   ],
   "source": [
    "per_square(house_filtered)"
   ]
  },
  {
   "cell_type": "markdown",
   "metadata": {},
   "source": [
    "## The most expensive and the cheapest price of 3-room and good-condition house by location in Wallonia"
   ]
  },
  {
   "cell_type": "code",
   "execution_count": 606,
   "metadata": {},
   "outputs": [
    {
     "data": {
      "text/plain": [
       "(739, 20)"
      ]
     },
     "execution_count": 606,
     "metadata": {},
     "output_type": "execute_result"
    }
   ],
   "source": [
    "house_filtered = df.loc[(df.rooms_number==3) & (df.house_is==True) & (df.building_state=='GOOD') & (df.region=='Flanders')]\n",
    "house_filtered.shape"
   ]
  },
  {
   "cell_type": "code",
   "execution_count": 607,
   "metadata": {},
   "outputs": [],
   "source": [
    "by_locality = house_filtered.groupby('locality')['price'].mean()\n",
    "by_local = pd.DataFrame(by_locality)\n",
    "result_most = by_local[by_local.price>700000]\n",
    "result_less = by_local[by_local.price<200000]"
   ]
  },
  {
   "cell_type": "code",
   "execution_count": 631,
   "metadata": {},
   "outputs": [
    {
     "data": {
      "image/png": "[encoded data removed]",
      "text/plain": [
       "<Figure size 1080x288 with 2 Axes>"
      ]
     },
     "metadata": {
      "needs_background": "light"
     },
     "output_type": "display_data"
    }
   ],
   "source": [
    "plt.figure(figsize=(15,4))\n",
    "\n",
    "# Create plot axes for the first line plot\n",
    "plt.subplot(1, 2, 1) \n",
    "\n",
    "plt.bar(result.index, result_most.price)\n",
    "\n",
    "# Create plot axes for the second line plot\n",
    "plt.subplot(1, 2, 2) \n",
    "\n",
    "plt.bar(result_less.index, result_less.price)\n",
    "\n",
    "# Display the plot\n",
    "plt.show()"
   ]
  },
  {
   "cell_type": "markdown",
   "metadata": {},
   "source": [
    "### In avarage price"
   ]
  },
  {
   "cell_type": "code",
   "execution_count": 610,
   "metadata": {},
   "outputs": [
    {
     "name": "stdout",
     "output_type": "stream",
     "text": [
      "The avarage price of houses in the most expensive municipalities:  2000000.0 in 1640\n",
      "The avarage price of houses in the cheapest municipalities: 125000.0 in 8691\n"
     ]
    }
   ],
   "source": [
    "avarage_df(house_filtered)"
   ]
  },
  {
   "cell_type": "markdown",
   "metadata": {},
   "source": [
    "### In median price"
   ]
  },
  {
   "cell_type": "code",
   "execution_count": 611,
   "metadata": {},
   "outputs": [
    {
     "name": "stdout",
     "output_type": "stream",
     "text": [
      "The median price of houses in the most expensive municipalities:  2000000.0 in 1640\n",
      "The median price of houses in the cheapest municipalities: 125000.0 in 8691\n"
     ]
    }
   ],
   "source": [
    "median_df(house_filtered)"
   ]
  },
  {
   "cell_type": "markdown",
   "metadata": {},
   "source": [
    "### Per square meter"
   ]
  },
  {
   "cell_type": "code",
   "execution_count": 612,
   "metadata": {},
   "outputs": [
    {
     "name": "stdout",
     "output_type": "stream",
     "text": [
      "The avarage price of square of houses in the most expensive municipalities :  4944.444444444444 in 2600\n",
      "The avarage price of square of houses in the cheapest municipalities: 623.3333333333334 in 8780\n"
     ]
    }
   ],
   "source": [
    "per_square(house_filtered)"
   ]
  },
  {
   "cell_type": "markdown",
   "metadata": {},
   "source": [
    "## Building State"
   ]
  },
  {
   "cell_type": "code",
   "execution_count": 648,
   "metadata": {},
   "outputs": [],
   "source": [
    "house_filtered = df.loc[(df.rooms_number==3) & (df.house_is==True) & (df.region=='Brussels')]\n",
    "by_state = house_filtered.groupby('building_state')['price'].mean()\n",
    "by_st_house = pd.DataFrame(by_state)\n",
    "by_st_house.drop(by_st_house[by_st_house.index == 'unknown'].index, inplace = True)\n",
    "\n",
    "apt_filtered = df.loc[(df.rooms_number==3) & (df.house_is==True) & (df.region=='Brussels')]\n",
    "by_state = apt_filtered.groupby('building_state')['price'].mean()\n",
    "by_st_apt = pd.DataFrame(by_state)\n",
    "by_st_apt.drop(by_st_apt[by_st_apt.index == 'unknown'].index, inplace = True)"
   ]
  },
  {
   "cell_type": "code",
   "execution_count": 649,
   "metadata": {},
   "outputs": [
    {
     "data": {
      "image/png": "[encoded data removed]",
      "text/plain": [
       "<Figure size 1080x288 with 2 Axes>"
      ]
     },
     "metadata": {
      "needs_background": "light"
     },
     "output_type": "display_data"
    }
   ],
   "source": [
    "plt.figure(figsize=(15,4))\n",
    "\n",
    "# Create plot axes for the first line plot\n",
    "plt.subplot(1, 2, 1) \n",
    "\n",
    "plt.bar(by_st_house.index, by_st_house.price)\n",
    "\n",
    "# Create plot axes for the second line plot\n",
    "plt.subplot(1, 2, 2) \n",
    "\n",
    "plt.bar(by_st_apt.index, by_st_apt.price)\n",
    "\n",
    "# Display the plot\n",
    "plt.show()"
   ]
  },
  {
   "cell_type": "code",
   "execution_count": null,
   "metadata": {},
   "outputs": [],
   "source": []
  },
  {
   "cell_type": "code",
   "execution_count": 633,
   "metadata": {},
   "outputs": [
    {
     "data": {
      "image/png": "[encoded data removed]",
      "text/plain": [
       "<Figure size 1080x288 with 2 Axes>"
      ]
     },
     "metadata": {
      "needs_background": "light"
     },
     "output_type": "display_data"
    }
   ],
   "source": []
  },
  {
   "cell_type": "code",
   "execution_count": 641,
   "metadata": {
    "scrolled": true
   },
   "outputs": [
    {
     "data": {
      "text/html": [
       "<div>\n",
       "<style scoped>\n",
       "    .dataframe tbody tr th:only-of-type {\n",
       "        vertical-align: middle;\n",
       "    }\n",
       "\n",
       "    .dataframe tbody tr th {\n",
       "        vertical-align: top;\n",
       "    }\n",
       "\n",
       "    .dataframe thead th {\n",
       "        text-align: right;\n",
       "    }\n",
       "</style>\n",
       "<table border=\"1\" class=\"dataframe\">\n",
       "  <thead>\n",
       "    <tr style=\"text-align: right;\">\n",
       "      <th></th>\n",
       "      <th>price</th>\n",
       "    </tr>\n",
       "    <tr>\n",
       "      <th>building_state</th>\n",
       "      <th></th>\n",
       "    </tr>\n",
       "  </thead>\n",
       "  <tbody>\n",
       "    <tr>\n",
       "      <th>AS_NEW</th>\n",
       "      <td>875507.339744</td>\n",
       "    </tr>\n",
       "    <tr>\n",
       "      <th>GOOD</th>\n",
       "      <td>566940.404145</td>\n",
       "    </tr>\n",
       "    <tr>\n",
       "      <th>JUST_RENOVATED</th>\n",
       "      <td>836701.149425</td>\n",
       "    </tr>\n",
       "    <tr>\n",
       "      <th>TO_BE_DONE_UP</th>\n",
       "      <td>437222.222222</td>\n",
       "    </tr>\n",
       "    <tr>\n",
       "      <th>TO_RENOVATE</th>\n",
       "      <td>420000.000000</td>\n",
       "    </tr>\n",
       "    <tr>\n",
       "      <th>TO_RESTORE</th>\n",
       "      <td>399000.000000</td>\n",
       "    </tr>\n",
       "    <tr>\n",
       "      <th>unknown</th>\n",
       "      <td>797443.316062</td>\n",
       "    </tr>\n",
       "  </tbody>\n",
       "</table>\n",
       "</div>"
      ],
      "text/plain": [
       "                        price\n",
       "building_state               \n",
       "AS_NEW          875507.339744\n",
       "GOOD            566940.404145\n",
       "JUST_RENOVATED  836701.149425\n",
       "TO_BE_DONE_UP   437222.222222\n",
       "TO_RENOVATE     420000.000000\n",
       "TO_RESTORE      399000.000000\n",
       "unknown         797443.316062"
      ]
     },
     "execution_count": 641,
     "metadata": {},
     "output_type": "execute_result"
    }
   ],
   "source": []
  },
  {
   "cell_type": "code",
   "execution_count": 642,
   "metadata": {},
   "outputs": [
    {
     "data": {
      "image/png": "[encoded data removed]",
      "text/plain": [
       "<Figure size 432x288 with 1 Axes>"
      ]
     },
     "metadata": {
      "needs_background": "light"
     },
     "output_type": "display_data"
    }
   ],
   "source": [
    "by_st.drop(by_st[by_st.index == 'unknown'].index, inplace = True)\n",
    "# Create plot axes for the second line plot\n",
    "plt.axes([1,2,1.5,1])\n",
    "\n",
    "plt.bar(by_st.index, by_st.price)\n",
    "plt.show()"
   ]
  },
  {
   "cell_type": "code",
   "execution_count": 619,
   "metadata": {},
   "outputs": [
    {
     "data": {
      "text/plain": [
       "(122, 20)"
      ]
     },
     "execution_count": 619,
     "metadata": {},
     "output_type": "execute_result"
    }
   ],
   "source": [
    "house_filtered = df.loc[(df.rooms_number==3) & (df.house_is==True) & (df.region=='Brussels')]\n",
    "house_filtered.shape"
   ]
  },
  {
   "cell_type": "code",
   "execution_count": 620,
   "metadata": {},
   "outputs": [
    {
     "data": {
      "image/png": "[encoded data removed]",
      "text/plain": [
       "<Figure size 432x288 with 1 Axes>"
      ]
     },
     "metadata": {
      "needs_background": "light"
     },
     "output_type": "display_data"
    }
   ],
   "source": [
    "\n",
    "# Create plot axes \n",
    "plt.axes([1,2,1.5,1])\n",
    "\n",
    "plt.bar(by_st.index, by_st.price)\n",
    "plt.show()"
   ]
  },
  {
   "cell_type": "code",
   "execution_count": null,
   "metadata": {},
   "outputs": [],
   "source": []
  }
 ],
 "metadata": {
  "kernelspec": {
   "display_name": "Python 3",
   "language": "python",
   "name": "python3"
  },
  "language_info": {
   "codemirror_mode": {
    "name": "ipython",
    "version": 3
   },
   "file_extension": ".py",
   "mimetype": "text/x-python",
   "name": "python",
   "nbconvert_exporter": "python",
   "pygments_lexer": "ipython3",
   "version": "3.7.3"
  }
 },
 "nbformat": 4,
 "nbformat_minor": 2
}
