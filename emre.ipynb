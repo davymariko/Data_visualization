{
 "cells": [
  {
   "cell_type": "code",
   "execution_count": 255,
   "metadata": {},
   "outputs": [],
   "source": [
    "import pandas as pd\n",
    "import numpy as np"
   ]
  },
  {
   "cell_type": "code",
   "execution_count": 256,
   "metadata": {},
   "outputs": [
    {
     "name": "stderr",
     "output_type": "stream",
     "text": [
      "/snap/jupyter/6/lib/python3.7/site-packages/IPython/core/interactiveshell.py:3049: DtypeWarning: Columns (4,6,8,9,11,12,15,16,17,18,19) have mixed types.Specify dtype option on import or set low_memory=False.\n",
      "  interactivity=interactivity, compiler=compiler, result=result)\n"
     ]
    },
    {
     "data": {
      "text/html": [
       "<div>\n",
       "<style scoped>\n",
       "    .dataframe tbody tr th:only-of-type {\n",
       "        vertical-align: middle;\n",
       "    }\n",
       "\n",
       "    .dataframe tbody tr th {\n",
       "        vertical-align: top;\n",
       "    }\n",
       "\n",
       "    .dataframe thead th {\n",
       "        text-align: right;\n",
       "    }\n",
       "</style>\n",
       "<table border=\"1\" class=\"dataframe\">\n",
       "  <thead>\n",
       "    <tr style=\"text-align: right;\">\n",
       "      <th></th>\n",
       "      <th>source</th>\n",
       "      <th>hyperlink</th>\n",
       "      <th>locality</th>\n",
       "      <th>postcode</th>\n",
       "      <th>house_is</th>\n",
       "      <th>property_subtype</th>\n",
       "      <th>price</th>\n",
       "      <th>sale</th>\n",
       "      <th>rooms_number</th>\n",
       "      <th>area</th>\n",
       "      <th>...</th>\n",
       "      <th>open_fire</th>\n",
       "      <th>terrace</th>\n",
       "      <th>terrace_area</th>\n",
       "      <th>garden</th>\n",
       "      <th>garden_area</th>\n",
       "      <th>land_surface</th>\n",
       "      <th>land_plot_surface</th>\n",
       "      <th>facades_number</th>\n",
       "      <th>swimming_pool_has</th>\n",
       "      <th>building_state</th>\n",
       "    </tr>\n",
       "  </thead>\n",
       "  <tbody>\n",
       "    <tr>\n",
       "      <th>0</th>\n",
       "      <td>6</td>\n",
       "      <td>8901695</td>\n",
       "      <td>4180</td>\n",
       "      <td>4180.0</td>\n",
       "      <td>True</td>\n",
       "      <td>MIXED_USE_BUILDING</td>\n",
       "      <td>295000</td>\n",
       "      <td>NaN</td>\n",
       "      <td>3</td>\n",
       "      <td>242</td>\n",
       "      <td>...</td>\n",
       "      <td>False</td>\n",
       "      <td>True</td>\n",
       "      <td>36</td>\n",
       "      <td>True</td>\n",
       "      <td>1000</td>\n",
       "      <td>1403</td>\n",
       "      <td>1403</td>\n",
       "      <td>0</td>\n",
       "      <td>False</td>\n",
       "      <td>GOOD</td>\n",
       "    </tr>\n",
       "    <tr>\n",
       "      <th>1</th>\n",
       "      <td>6</td>\n",
       "      <td>8747010</td>\n",
       "      <td>8730</td>\n",
       "      <td>8730.0</td>\n",
       "      <td>True</td>\n",
       "      <td>VILLA</td>\n",
       "      <td>675000</td>\n",
       "      <td>NaN</td>\n",
       "      <td>4</td>\n",
       "      <td>349</td>\n",
       "      <td>...</td>\n",
       "      <td>False</td>\n",
       "      <td>False</td>\n",
       "      <td>0</td>\n",
       "      <td>True</td>\n",
       "      <td>977</td>\n",
       "      <td>1526</td>\n",
       "      <td>1526</td>\n",
       "      <td>0</td>\n",
       "      <td>False</td>\n",
       "      <td>AS_NEW</td>\n",
       "    </tr>\n",
       "    <tr>\n",
       "      <th>2</th>\n",
       "      <td>6</td>\n",
       "      <td>8775843</td>\n",
       "      <td>4020</td>\n",
       "      <td>4020.0</td>\n",
       "      <td>True</td>\n",
       "      <td>APARTMENT_BLOCK</td>\n",
       "      <td>250000</td>\n",
       "      <td>NaN</td>\n",
       "      <td>5</td>\n",
       "      <td>303</td>\n",
       "      <td>...</td>\n",
       "      <td>False</td>\n",
       "      <td>False</td>\n",
       "      <td>0</td>\n",
       "      <td>False</td>\n",
       "      <td>0</td>\n",
       "      <td>760</td>\n",
       "      <td>760</td>\n",
       "      <td>0</td>\n",
       "      <td>False</td>\n",
       "      <td>TO_RENOVATE</td>\n",
       "    </tr>\n",
       "    <tr>\n",
       "      <th>3</th>\n",
       "      <td>6</td>\n",
       "      <td>8910441</td>\n",
       "      <td>1200</td>\n",
       "      <td>1200.0</td>\n",
       "      <td>True</td>\n",
       "      <td>HOUSE</td>\n",
       "      <td>545000</td>\n",
       "      <td>NaN</td>\n",
       "      <td>4</td>\n",
       "      <td>235</td>\n",
       "      <td>...</td>\n",
       "      <td>False</td>\n",
       "      <td>False</td>\n",
       "      <td>0</td>\n",
       "      <td>False</td>\n",
       "      <td>0</td>\n",
       "      <td>63</td>\n",
       "      <td>63</td>\n",
       "      <td>0</td>\n",
       "      <td>False</td>\n",
       "      <td>JUST_RENOVATED</td>\n",
       "    </tr>\n",
       "    <tr>\n",
       "      <th>4</th>\n",
       "      <td>6</td>\n",
       "      <td>8758672</td>\n",
       "      <td>1190</td>\n",
       "      <td>1190.0</td>\n",
       "      <td>True</td>\n",
       "      <td>MIXED_USE_BUILDING</td>\n",
       "      <td>500000</td>\n",
       "      <td>NaN</td>\n",
       "      <td>2</td>\n",
       "      <td>220</td>\n",
       "      <td>...</td>\n",
       "      <td>False</td>\n",
       "      <td>False</td>\n",
       "      <td>0</td>\n",
       "      <td>True</td>\n",
       "      <td>60</td>\n",
       "      <td>193</td>\n",
       "      <td>193</td>\n",
       "      <td>0</td>\n",
       "      <td>False</td>\n",
       "      <td>AS_NEW</td>\n",
       "    </tr>\n",
       "  </tbody>\n",
       "</table>\n",
       "<p>5 rows × 22 columns</p>\n",
       "</div>"
      ],
      "text/plain": [
       "   source  hyperlink  locality  postcode house_is    property_subtype   \\\n",
       "0        6    8901695     4180    4180.0      True  MIXED_USE_BUILDING   \n",
       "1        6    8747010     8730    8730.0      True               VILLA   \n",
       "2        6    8775843     4020    4020.0      True     APARTMENT_BLOCK   \n",
       "3        6    8910441     1200    1200.0      True               HOUSE   \n",
       "4        6    8758672     1190    1190.0      True  MIXED_USE_BUILDING   \n",
       "\n",
       "    price sale rooms_number  area   ... open_fire  terrace  terrace_area  \\\n",
       "0  295000  NaN             3   242  ...      False     True           36   \n",
       "1  675000  NaN             4   349  ...      False    False            0   \n",
       "2  250000  NaN             5   303  ...      False    False            0   \n",
       "3  545000  NaN             4   235  ...      False    False            0   \n",
       "4  500000  NaN             2   220  ...      False    False            0   \n",
       "\n",
       "  garden  garden_area land_surface land_plot_surface  facades_number   \\\n",
       "0    True        1000         1403               1403               0   \n",
       "1    True         977         1526               1526               0   \n",
       "2   False           0          760                760               0   \n",
       "3   False           0           63                 63               0   \n",
       "4    True          60          193                193               0   \n",
       "\n",
       "  swimming_pool_has  building_state   \n",
       "0              False            GOOD  \n",
       "1              False          AS_NEW  \n",
       "2              False     TO_RENOVATE  \n",
       "3              False  JUST_RENOVATED  \n",
       "4              False          AS_NEW  \n",
       "\n",
       "[5 rows x 22 columns]"
      ]
     },
     "execution_count": 256,
     "metadata": {},
     "output_type": "execute_result"
    }
   ],
   "source": [
    "properties = pd.read_csv('csv_files/properties.csv')\n",
    "properties.head()"
   ]
  },
  {
   "cell_type": "code",
   "execution_count": 257,
   "metadata": {},
   "outputs": [
    {
     "data": {
      "text/plain": [
       "(75876, 22)"
      ]
     },
     "execution_count": 257,
     "metadata": {},
     "output_type": "execute_result"
    }
   ],
   "source": [
    "properties.shape"
   ]
  },
  {
   "cell_type": "code",
   "execution_count": 258,
   "metadata": {},
   "outputs": [
    {
     "data": {
      "text/plain": [
       "Index(['source ', 'hyperlink ', 'locality', 'postcode', 'house_is ',\n",
       "       'property_subtype ', 'price', 'sale', 'rooms_number ', 'area ',\n",
       "       'kitchen_has ', 'furnished ', 'open_fire ', 'terrace ', 'terrace_area',\n",
       "       'garden ', 'garden_area', 'land_surface', 'land_plot_surface ',\n",
       "       'facades_number ', 'swimming_pool_has ', 'building_state '],\n",
       "      dtype='object')"
      ]
     },
     "execution_count": 258,
     "metadata": {},
     "output_type": "execute_result"
    }
   ],
   "source": [
    "properties.columns"
   ]
  },
  {
   "cell_type": "code",
   "execution_count": 259,
   "metadata": {},
   "outputs": [],
   "source": [
    "properties.columns = ['source', 'hyperlink', 'locality', 'postcode', 'house_is',\n",
    "       'property_subtype', 'price', 'sale', 'rooms_number', 'area',\n",
    "       'kitchen_has', 'furnished', 'open_fire', 'terrace', 'terrace_area',\n",
    "       'garden', 'garden_area', 'land_surface', 'land_plot_surface',\n",
    "       'facades_number', 'swimming_pool_has', 'building_state']"
   ]
  },
  {
   "cell_type": "code",
   "execution_count": 260,
   "metadata": {},
   "outputs": [],
   "source": [
    "pd.options.display.max_rows = 4000"
   ]
  },
  {
   "cell_type": "markdown",
   "metadata": {},
   "source": [
    "## properties.room_number"
   ]
  },
  {
   "cell_type": "code",
   "execution_count": 261,
   "metadata": {},
   "outputs": [
    {
     "data": {
      "text/plain": [
       "Series([], Name: rooms_number, dtype: object)"
      ]
     },
     "execution_count": 261,
     "metadata": {},
     "output_type": "execute_result"
    }
   ],
   "source": [
    "# replace None to np.nan\n",
    "properties.rooms_number.fillna(value=np.nan, inplace=True)\n",
    "properties.rooms_number[properties.rooms_number==None]"
   ]
  },
  {
   "cell_type": "code",
   "execution_count": 262,
   "metadata": {},
   "outputs": [
    {
     "data": {
      "text/plain": [
       "Series([], Name: rooms_number, dtype: object)"
      ]
     },
     "execution_count": 262,
     "metadata": {},
     "output_type": "execute_result"
    }
   ],
   "source": [
    "# replace 'None' to np.nan\n",
    "properties.rooms_number = properties.rooms_number.apply(lambda x : np.nan if x=='None' else x)\n",
    "properties.rooms_number[properties.rooms_number=='None']"
   ]
  },
  {
   "cell_type": "code",
   "execution_count": 263,
   "metadata": {},
   "outputs": [],
   "source": [
    "# change data type of rooms_number from object to float64\n",
    "properties.rooms_number = properties.rooms_number.astype('float64')"
   ]
  },
  {
   "cell_type": "markdown",
   "metadata": {},
   "source": [
    "## properties.area"
   ]
  },
  {
   "cell_type": "code",
   "execution_count": 264,
   "metadata": {},
   "outputs": [],
   "source": [
    "# replace 'm2' from value of area\n",
    "properties.area = properties.area.replace(r'\\w|\\W|\\s', '', regex=True)"
   ]
  },
  {
   "cell_type": "code",
   "execution_count": 265,
   "metadata": {},
   "outputs": [],
   "source": [
    "# replace 'm2' from value of area\n",
    "properties.area = properties.area.replace(r'', np.nan, regex=True)"
   ]
  },
  {
   "cell_type": "code",
   "execution_count": 266,
   "metadata": {},
   "outputs": [
    {
     "data": {
      "text/plain": [
       "Series([], Name: area, dtype: float64)"
      ]
     },
     "execution_count": 266,
     "metadata": {},
     "output_type": "execute_result"
    }
   ],
   "source": [
    "# replace None to np.nan\n",
    "properties.area.fillna(value=np.nan, inplace=True)\n",
    "properties.area[properties.area==None]"
   ]
  },
  {
   "cell_type": "code",
   "execution_count": 267,
   "metadata": {},
   "outputs": [
    {
     "data": {
      "text/plain": [
       "Series([], Name: area, dtype: float64)"
      ]
     },
     "execution_count": 267,
     "metadata": {},
     "output_type": "execute_result"
    }
   ],
   "source": [
    "# replace 'None' to np.nan\n",
    "properties.area = properties.area.apply(lambda x : np.nan if x=='None' else x)\n",
    "properties.area[properties.area=='None']"
   ]
  },
  {
   "cell_type": "code",
   "execution_count": 268,
   "metadata": {},
   "outputs": [],
   "source": [
    "# change data type from object to float64\n",
    "properties.area = properties.area.astype('float64')"
   ]
  },
  {
   "cell_type": "markdown",
   "metadata": {},
   "source": [
    "## kitchen_has"
   ]
  },
  {
   "cell_type": "code",
   "execution_count": 269,
   "metadata": {},
   "outputs": [],
   "source": [
    "# change data type from object to float64\n",
    "properties.kitchen_has = properties.kitchen_has.astype('float64')"
   ]
  },
  {
   "cell_type": "markdown",
   "metadata": {},
   "source": [
    "## furnished"
   ]
  },
  {
   "cell_type": "code",
   "execution_count": 270,
   "metadata": {},
   "outputs": [],
   "source": [
    "# change data type from object to float64\n",
    "properties.kitchen_has = properties.kitchen_has.astype('float64')"
   ]
  },
  {
   "cell_type": "markdown",
   "metadata": {},
   "source": [
    "## open_fire"
   ]
  },
  {
   "cell_type": "code",
   "execution_count": 271,
   "metadata": {},
   "outputs": [],
   "source": [
    "# change data type from object to float64\n",
    "properties.kitchen_has = properties.kitchen_has.astype('float64')"
   ]
  },
  {
   "cell_type": "markdown",
   "metadata": {},
   "source": [
    "## terrace"
   ]
  },
  {
   "cell_type": "code",
   "execution_count": 249,
   "metadata": {},
   "outputs": [],
   "source": [
    "# change numerical data to np.nan\n",
    "properties.terrace = properties.terrace.replace(r'\\d\\.?\\d?', 'np.nan', regex=True)"
   ]
  },
  {
   "cell_type": "code",
   "execution_count": 250,
   "metadata": {},
   "outputs": [],
   "source": [
    "# replace string False to False\n",
    "properties.terrace = properties.terrace.replace('False', False)"
   ]
  },
  {
   "cell_type": "code",
   "execution_count": 251,
   "metadata": {},
   "outputs": [],
   "source": [
    "# change data type from object to bool\n",
    "properties.terrace = properties.terrace.astype('bool')"
   ]
  },
  {
   "cell_type": "code",
   "execution_count": 252,
   "metadata": {},
   "outputs": [
    {
     "data": {
      "text/plain": [
       "True     49047\n",
       "False    26829\n",
       "Name: terrace, dtype: int64"
      ]
     },
     "execution_count": 252,
     "metadata": {},
     "output_type": "execute_result"
    }
   ],
   "source": [
    "properties.terrace.value_counts(dropna=False)"
   ]
  },
  {
   "cell_type": "markdown",
   "metadata": {},
   "source": [
    "## garden"
   ]
  },
  {
   "cell_type": "code",
   "execution_count": 228,
   "metadata": {},
   "outputs": [],
   "source": [
    "# replace string False to False\n",
    "properties.garden = properties.garden.replace('False', False)"
   ]
  },
  {
   "cell_type": "code",
   "execution_count": 230,
   "metadata": {},
   "outputs": [],
   "source": [
    "# change data type from object to bool\n",
    "properties.garden = properties.garden.astype('bool')"
   ]
  },
  {
   "cell_type": "code",
   "execution_count": 231,
   "metadata": {},
   "outputs": [
    {
     "data": {
      "text/plain": [
       "False    49176\n",
       "True     26700\n",
       "Name: garden, dtype: int64"
      ]
     },
     "execution_count": 231,
     "metadata": {},
     "output_type": "execute_result"
    }
   ],
   "source": [
    "properties.garden.value_counts()"
   ]
  },
  {
   "cell_type": "markdown",
   "metadata": {},
   "source": [
    "## terrace_area"
   ]
  },
  {
   "cell_type": "code",
   "execution_count": 172,
   "metadata": {},
   "outputs": [
    {
     "data": {
      "text/plain": [
       "Series([], Name: terrace_area, dtype: object)"
      ]
     },
     "execution_count": 172,
     "metadata": {},
     "output_type": "execute_result"
    }
   ],
   "source": [
    "# replace 'None' to np.nan\n",
    "properties.terrace_area = properties.terrace_area.apply(lambda x : np.nan if x=='None' else x)\n",
    "properties.terrace_area[properties.terrace_area=='None']"
   ]
  },
  {
   "cell_type": "code",
   "execution_count": 180,
   "metadata": {},
   "outputs": [],
   "source": [
    "properties.terrace_area = properties.terrace_area.replace(True, np.nan)\n",
    "properties.terrace_area = properties.terrace_area.replace('TRUE', np.nan)"
   ]
  },
  {
   "cell_type": "code",
   "execution_count": 182,
   "metadata": {},
   "outputs": [],
   "source": [
    "# change data type from object to float64\n",
    "properties.terrace_area = properties.terrace_area.astype('float64')"
   ]
  },
  {
   "cell_type": "code",
   "execution_count": null,
   "metadata": {},
   "outputs": [],
   "source": []
  },
  {
   "cell_type": "code",
   "execution_count": 254,
   "metadata": {},
   "outputs": [
    {
     "data": {
      "text/plain": [
       "0        1000\n",
       "1         977\n",
       "2           0\n",
       "3           0\n",
       "4          60\n",
       "         ... \n",
       "75871     NaN\n",
       "75872     NaN\n",
       "75873     NaN\n",
       "75874     NaN\n",
       "75875     NaN\n",
       "Name: garden_area, Length: 75876, dtype: object"
      ]
     },
     "execution_count": 254,
     "metadata": {},
     "output_type": "execute_result"
    }
   ],
   "source": [
    "properties.garden_area"
   ]
  },
  {
   "cell_type": "code",
   "execution_count": null,
   "metadata": {},
   "outputs": [],
   "source": []
  }
 ],
 "metadata": {
  "kernelspec": {
   "display_name": "Python 3",
   "language": "python",
   "name": "python3"
  },
  "language_info": {
   "codemirror_mode": {
    "name": "ipython",
    "version": 3
   },
   "file_extension": ".py",
   "mimetype": "text/x-python",
   "name": "python",
   "nbconvert_exporter": "python",
   "pygments_lexer": "ipython3",
   "version": "3.7.3"
  }
 },
 "nbformat": 4,
 "nbformat_minor": 2
}
