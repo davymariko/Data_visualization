{
 "cells": [
  {
   "cell_type": "code",
   "execution_count": null,
   "metadata": {},
   "outputs": [],
   "source": [
    "###  Set up the environment and load the data\n",
    "\n",
    "import pandas as pd\n",
    "df = pd.read_csv('properties.csv')\n",
    "\n",
    "### Trim spaces in column names\n",
    "\n",
    "df.columns = df.columns.str.replace(' ', '')\n",
    "\n",
    "# Get column names\n",
    "column_names = df[['garden', 'garden_area', 'land_surface', 'land_plot_surface',\n",
    "       'facades_number', 'swimming_pool_has', 'building_state']]\n",
    "#To Do With NaN\n",
    "\n",
    "for i in column_names:\n",
    "    df[i] = df[i].fillna('')\n",
    "    print(df[i].isnull().sum())#should return 0\n",
    "columns['garden'] = columns['garden'].replace(r'\\d*\\.\\d','np.nan', regex=True)\n",
    "\n",
    "columns['building_state'] = columns['building_state'].replace(' ','Unknown')\n"
   ]
  }
 ],
 "metadata": {
  "kernelspec": {
   "display_name": "Python 3",
   "language": "python",
   "name": "python3"
  },
  "language_info": {
   "codemirror_mode": {
    "name": "ipython",
    "version": 3
   },
   "file_extension": ".py",
   "mimetype": "text/x-python",
   "name": "python",
   "nbconvert_exporter": "python",
   "pygments_lexer": "ipython3",
   "version": "3.8.3"
  }
 },
 "nbformat": 4,
 "nbformat_minor": 4
}
