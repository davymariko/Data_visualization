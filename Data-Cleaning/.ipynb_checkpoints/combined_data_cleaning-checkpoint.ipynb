{
 "cells": [
  {
   "cell_type": "code",
   "execution_count": 12,
   "metadata": {},
   "outputs": [],
   "source": [
    "import pandas as pd\n",
    "import numpy as np\n",
    "import re"
   ]
  },
  {
   "cell_type": "code",
   "execution_count": 3,
   "metadata": {},
   "outputs": [
    {
     "name": "stderr",
     "output_type": "stream",
     "text": [
      "/snap/jupyter/6/lib/python3.7/site-packages/IPython/core/interactiveshell.py:3049: DtypeWarning: Columns (4,6,8,9,11,12,15,16,17,18,19) have mixed types.Specify dtype option on import or set low_memory=False.\n",
      "  interactivity=interactivity, compiler=compiler, result=result)\n"
     ]
    },
    {
     "data": {
      "text/html": [
       "<div>\n",
       "<style scoped>\n",
       "    .dataframe tbody tr th:only-of-type {\n",
       "        vertical-align: middle;\n",
       "    }\n",
       "\n",
       "    .dataframe tbody tr th {\n",
       "        vertical-align: top;\n",
       "    }\n",
       "\n",
       "    .dataframe thead th {\n",
       "        text-align: right;\n",
       "    }\n",
       "</style>\n",
       "<table border=\"1\" class=\"dataframe\">\n",
       "  <thead>\n",
       "    <tr style=\"text-align: right;\">\n",
       "      <th></th>\n",
       "      <th>source</th>\n",
       "      <th>hyperlink</th>\n",
       "      <th>locality</th>\n",
       "      <th>postcode</th>\n",
       "      <th>house_is</th>\n",
       "      <th>property_subtype</th>\n",
       "      <th>price</th>\n",
       "      <th>sale</th>\n",
       "      <th>rooms_number</th>\n",
       "      <th>area</th>\n",
       "      <th>...</th>\n",
       "      <th>open_fire</th>\n",
       "      <th>terrace</th>\n",
       "      <th>terrace_area</th>\n",
       "      <th>garden</th>\n",
       "      <th>garden_area</th>\n",
       "      <th>land_surface</th>\n",
       "      <th>land_plot_surface</th>\n",
       "      <th>facades_number</th>\n",
       "      <th>swimming_pool_has</th>\n",
       "      <th>building_state</th>\n",
       "    </tr>\n",
       "  </thead>\n",
       "  <tbody>\n",
       "    <tr>\n",
       "      <th>0</th>\n",
       "      <td>6</td>\n",
       "      <td>8901695</td>\n",
       "      <td>4180</td>\n",
       "      <td>4180.0</td>\n",
       "      <td>True</td>\n",
       "      <td>MIXED_USE_BUILDING</td>\n",
       "      <td>295000</td>\n",
       "      <td>NaN</td>\n",
       "      <td>3</td>\n",
       "      <td>242</td>\n",
       "      <td>...</td>\n",
       "      <td>False</td>\n",
       "      <td>True</td>\n",
       "      <td>36</td>\n",
       "      <td>True</td>\n",
       "      <td>1000</td>\n",
       "      <td>1403</td>\n",
       "      <td>1403</td>\n",
       "      <td>0</td>\n",
       "      <td>False</td>\n",
       "      <td>GOOD</td>\n",
       "    </tr>\n",
       "    <tr>\n",
       "      <th>1</th>\n",
       "      <td>6</td>\n",
       "      <td>8747010</td>\n",
       "      <td>8730</td>\n",
       "      <td>8730.0</td>\n",
       "      <td>True</td>\n",
       "      <td>VILLA</td>\n",
       "      <td>675000</td>\n",
       "      <td>NaN</td>\n",
       "      <td>4</td>\n",
       "      <td>349</td>\n",
       "      <td>...</td>\n",
       "      <td>False</td>\n",
       "      <td>False</td>\n",
       "      <td>0</td>\n",
       "      <td>True</td>\n",
       "      <td>977</td>\n",
       "      <td>1526</td>\n",
       "      <td>1526</td>\n",
       "      <td>0</td>\n",
       "      <td>False</td>\n",
       "      <td>AS_NEW</td>\n",
       "    </tr>\n",
       "    <tr>\n",
       "      <th>2</th>\n",
       "      <td>6</td>\n",
       "      <td>8775843</td>\n",
       "      <td>4020</td>\n",
       "      <td>4020.0</td>\n",
       "      <td>True</td>\n",
       "      <td>APARTMENT_BLOCK</td>\n",
       "      <td>250000</td>\n",
       "      <td>NaN</td>\n",
       "      <td>5</td>\n",
       "      <td>303</td>\n",
       "      <td>...</td>\n",
       "      <td>False</td>\n",
       "      <td>False</td>\n",
       "      <td>0</td>\n",
       "      <td>False</td>\n",
       "      <td>0</td>\n",
       "      <td>760</td>\n",
       "      <td>760</td>\n",
       "      <td>0</td>\n",
       "      <td>False</td>\n",
       "      <td>TO_RENOVATE</td>\n",
       "    </tr>\n",
       "    <tr>\n",
       "      <th>3</th>\n",
       "      <td>6</td>\n",
       "      <td>8910441</td>\n",
       "      <td>1200</td>\n",
       "      <td>1200.0</td>\n",
       "      <td>True</td>\n",
       "      <td>HOUSE</td>\n",
       "      <td>545000</td>\n",
       "      <td>NaN</td>\n",
       "      <td>4</td>\n",
       "      <td>235</td>\n",
       "      <td>...</td>\n",
       "      <td>False</td>\n",
       "      <td>False</td>\n",
       "      <td>0</td>\n",
       "      <td>False</td>\n",
       "      <td>0</td>\n",
       "      <td>63</td>\n",
       "      <td>63</td>\n",
       "      <td>0</td>\n",
       "      <td>False</td>\n",
       "      <td>JUST_RENOVATED</td>\n",
       "    </tr>\n",
       "    <tr>\n",
       "      <th>4</th>\n",
       "      <td>6</td>\n",
       "      <td>8758672</td>\n",
       "      <td>1190</td>\n",
       "      <td>1190.0</td>\n",
       "      <td>True</td>\n",
       "      <td>MIXED_USE_BUILDING</td>\n",
       "      <td>500000</td>\n",
       "      <td>NaN</td>\n",
       "      <td>2</td>\n",
       "      <td>220</td>\n",
       "      <td>...</td>\n",
       "      <td>False</td>\n",
       "      <td>False</td>\n",
       "      <td>0</td>\n",
       "      <td>True</td>\n",
       "      <td>60</td>\n",
       "      <td>193</td>\n",
       "      <td>193</td>\n",
       "      <td>0</td>\n",
       "      <td>False</td>\n",
       "      <td>AS_NEW</td>\n",
       "    </tr>\n",
       "  </tbody>\n",
       "</table>\n",
       "<p>5 rows × 22 columns</p>\n",
       "</div>"
      ],
      "text/plain": [
       "   source  hyperlink  locality  postcode house_is    property_subtype   \\\n",
       "0        6    8901695     4180    4180.0      True  MIXED_USE_BUILDING   \n",
       "1        6    8747010     8730    8730.0      True               VILLA   \n",
       "2        6    8775843     4020    4020.0      True     APARTMENT_BLOCK   \n",
       "3        6    8910441     1200    1200.0      True               HOUSE   \n",
       "4        6    8758672     1190    1190.0      True  MIXED_USE_BUILDING   \n",
       "\n",
       "    price sale rooms_number  area   ... open_fire  terrace  terrace_area  \\\n",
       "0  295000  NaN             3   242  ...      False     True           36   \n",
       "1  675000  NaN             4   349  ...      False    False            0   \n",
       "2  250000  NaN             5   303  ...      False    False            0   \n",
       "3  545000  NaN             4   235  ...      False    False            0   \n",
       "4  500000  NaN             2   220  ...      False    False            0   \n",
       "\n",
       "  garden  garden_area land_surface land_plot_surface  facades_number   \\\n",
       "0    True        1000         1403               1403               0   \n",
       "1    True         977         1526               1526               0   \n",
       "2   False           0          760                760               0   \n",
       "3   False           0           63                 63               0   \n",
       "4    True          60          193                193               0   \n",
       "\n",
       "  swimming_pool_has  building_state   \n",
       "0              False            GOOD  \n",
       "1              False          AS_NEW  \n",
       "2              False     TO_RENOVATE  \n",
       "3              False  JUST_RENOVATED  \n",
       "4              False          AS_NEW  \n",
       "\n",
       "[5 rows x 22 columns]"
      ]
     },
     "execution_count": 3,
     "metadata": {},
     "output_type": "execute_result"
    }
   ],
   "source": [
    "properties = pd.read_csv('../csv_files/properties.csv')\n",
    "properties.head()"
   ]
  },
  {
   "cell_type": "code",
   "execution_count": 4,
   "metadata": {},
   "outputs": [
    {
     "data": {
      "text/plain": [
       "(75876, 22)"
      ]
     },
     "execution_count": 4,
     "metadata": {},
     "output_type": "execute_result"
    }
   ],
   "source": [
    "properties.shape"
   ]
  },
  {
   "cell_type": "code",
   "execution_count": 5,
   "metadata": {},
   "outputs": [],
   "source": [
    "properties.columns = ['source', 'hyperlink', 'locality', 'postcode', 'house_is',\n",
    "       'property_subtype', 'price', 'sale', 'rooms_number', 'area',\n",
    "       'kitchen_has', 'furnished', 'open_fire', 'terrace', 'terrace_area',\n",
    "       'garden', 'garden_area', 'land_surface', 'land_plot_surface',\n",
    "       'facades_number', 'swimming_pool_has', 'building_state']"
   ]
  },
  {
   "cell_type": "markdown",
   "metadata": {},
   "source": [
    "## Didier"
   ]
  },
  {
   "cell_type": "code",
   "execution_count": 7,
   "metadata": {},
   "outputs": [],
   "source": [
    "properties['locality'] = properties['locality'].str.strip()\n",
    "properties['house_is'] = properties['house_is'].str.strip()\n",
    "properties['property_subtype'] = properties['property_subtype'].str.strip()\n",
    "properties['price'] = properties['price'].str.strip()\n",
    "properties['sale'] = properties['sale'].str.strip()"
   ]
  },
  {
   "cell_type": "markdown",
   "metadata": {},
   "source": [
    "#### 1. PostCode"
   ]
  },
  {
   "cell_type": "code",
   "execution_count": 9,
   "metadata": {},
   "outputs": [
    {
     "data": {
      "text/plain": [
       "Int64Dtype()"
      ]
     },
     "execution_count": 9,
     "metadata": {},
     "output_type": "execute_result"
    }
   ],
   "source": [
    "# 1 Converts postCode into int64\n",
    "\n",
    "properties['postcode'] = properties['postcode'].astype('Int64')\n",
    "properties['postcode'].dtypes"
   ]
  },
  {
   "cell_type": "markdown",
   "metadata": {},
   "source": [
    "#### 2. Price"
   ]
  },
  {
   "cell_type": "code",
   "execution_count": 13,
   "metadata": {},
   "outputs": [],
   "source": [
    "# 2 Converting price\n",
    "def grabs_strips(x):\n",
    "    if type(x) == str:\n",
    "        # return x.str.extract('(\\d*\\.?\\d*)', expand=False).astype(float)\n",
    "        return re.match(r'\\d*\\.?\\d*',x).group()\n",
    "    return x\n",
    "\n",
    "\n",
    "properties['price'] = properties['price'].apply(grabs_strips)"
   ]
  },
  {
   "cell_type": "code",
   "execution_count": 15,
   "metadata": {},
   "outputs": [],
   "source": [
    "# Conversion into float\n",
    "properties['price'] = pd.to_numeric(properties['price'], errors='coerce')"
   ]
  },
  {
   "cell_type": "code",
   "execution_count": 16,
   "metadata": {},
   "outputs": [
    {
     "data": {
      "text/plain": [
       "(75876,)"
      ]
     },
     "execution_count": 16,
     "metadata": {},
     "output_type": "execute_result"
    }
   ],
   "source": [
    "properties['price'].shape"
   ]
  },
  {
   "cell_type": "code",
   "execution_count": 23,
   "metadata": {},
   "outputs": [
    {
     "data": {
      "text/plain": [
       "(64142, 22)"
      ]
     },
     "execution_count": 23,
     "metadata": {},
     "output_type": "execute_result"
    }
   ],
   "source": [
    "properties.dropna(subset=['price'], inplace=True)\n",
    "properties.shape"
   ]
  },
  {
   "cell_type": "markdown",
   "metadata": {},
   "source": [
    "#### 3.Sale"
   ]
  },
  {
   "cell_type": "code",
   "execution_count": null,
   "metadata": {},
   "outputs": [],
   "source": [
    "loc_to_sales_df['sale'].replace({\n",
    "    'Wohnung': \"Apartment\",\n",
    "    'Appartement': \"Apartment\",\n",
    "    'Apartamento': \"Apartment\",\n",
    "    '': \"Unknown\",\n",
    "    'None': \"Unknown\",\n",
    "})\n",
    "\n",
    "loc_to_sales_df['sale'].fillna('Unknown')\n",
    "# loc_to_sales_df"
   ]
  },
  {
   "cell_type": "markdown",
   "metadata": {},
   "source": [
    "## 9.properties.room_number"
   ]
  },
  {
   "cell_type": "code",
   "execution_count": 24,
   "metadata": {},
   "outputs": [
    {
     "data": {
      "text/plain": [
       "Series([], Name: rooms_number, dtype: object)"
      ]
     },
     "execution_count": 24,
     "metadata": {},
     "output_type": "execute_result"
    }
   ],
   "source": [
    "# replace None to np.nan\n",
    "properties.rooms_number.fillna(value=np.nan, inplace=True)\n",
    "properties.rooms_number[properties.rooms_number==None]"
   ]
  },
  {
   "cell_type": "code",
   "execution_count": null,
   "metadata": {},
   "outputs": [],
   "source": [
    "# replace 'None' to np.nan\n",
    "properties.rooms_number = properties.rooms_number.apply(lambda x : np.nan if x=='None' else x)\n",
    "properties.rooms_number[properties.rooms_number=='None']"
   ]
  },
  {
   "cell_type": "code",
   "execution_count": null,
   "metadata": {},
   "outputs": [],
   "source": [
    "# change data type of rooms_number from object to float64\n",
    "properties.rooms_number = properties.rooms_number.astype('float64')"
   ]
  },
  {
   "cell_type": "markdown",
   "metadata": {},
   "source": [
    "## 10.properties.area"
   ]
  },
  {
   "cell_type": "code",
   "execution_count": 25,
   "metadata": {},
   "outputs": [],
   "source": [
    "# replace 'm2' from value of area\n",
    "properties.area = properties.area.replace(r'\\w|\\W|\\s', '', regex=True)"
   ]
  },
  {
   "cell_type": "code",
   "execution_count": 26,
   "metadata": {},
   "outputs": [],
   "source": [
    "# replace 'm2' from value of area\n",
    "properties.area = properties.area.replace('', np.nan)"
   ]
  },
  {
   "cell_type": "code",
   "execution_count": 27,
   "metadata": {},
   "outputs": [
    {
     "data": {
      "text/plain": [
       "Series([], Name: area, dtype: float64)"
      ]
     },
     "execution_count": 27,
     "metadata": {},
     "output_type": "execute_result"
    }
   ],
   "source": [
    "# replace None to np.nan\n",
    "properties.area.fillna(value=np.nan, inplace=True)\n",
    "properties.area[properties.area==None]"
   ]
  },
  {
   "cell_type": "code",
   "execution_count": 28,
   "metadata": {},
   "outputs": [
    {
     "data": {
      "text/plain": [
       "Series([], Name: area, dtype: float64)"
      ]
     },
     "execution_count": 28,
     "metadata": {},
     "output_type": "execute_result"
    }
   ],
   "source": [
    "# replace 'None' to np.nan\n",
    "properties.area = properties.area.apply(lambda x : np.nan if x=='None' else x)\n",
    "properties.area[properties.area=='None']"
   ]
  },
  {
   "cell_type": "code",
   "execution_count": 29,
   "metadata": {},
   "outputs": [],
   "source": [
    "# change data type from object to float64\n",
    "properties.area = properties.area.astype('float64')"
   ]
  },
  {
   "cell_type": "markdown",
   "metadata": {},
   "source": [
    "## 11.kitchen_has"
   ]
  },
  {
   "cell_type": "code",
   "execution_count": 30,
   "metadata": {},
   "outputs": [],
   "source": [
    "# change data type from object to float64\n",
    "properties.kitchen_has = properties.kitchen_has.astype('float64')"
   ]
  },
  {
   "cell_type": "markdown",
   "metadata": {},
   "source": [
    "## 12.furnished"
   ]
  },
  {
   "cell_type": "code",
   "execution_count": 31,
   "metadata": {},
   "outputs": [],
   "source": [
    "# change data type from object to float64\n",
    "properties.kitchen_has = properties.kitchen_has.astype('float64')"
   ]
  },
  {
   "cell_type": "markdown",
   "metadata": {},
   "source": [
    "## 13.open_fire"
   ]
  },
  {
   "cell_type": "code",
   "execution_count": 33,
   "metadata": {},
   "outputs": [],
   "source": [
    "# change data type from object to float64\n",
    "properties.kitchen_has = properties.kitchen_has.astype('float64')"
   ]
  },
  {
   "cell_type": "markdown",
   "metadata": {},
   "source": [
    "## 14.terrace"
   ]
  },
  {
   "cell_type": "code",
   "execution_count": 34,
   "metadata": {},
   "outputs": [],
   "source": [
    "# change numerical data to np.nan\n",
    "properties.terrace = properties.terrace.replace(r'\\d\\.?\\d?', 'np.nan', regex=True)"
   ]
  },
  {
   "cell_type": "code",
   "execution_count": 35,
   "metadata": {},
   "outputs": [],
   "source": [
    "# replace string False to False\n",
    "properties.terrace = properties.terrace.replace('False', False)"
   ]
  },
  {
   "cell_type": "code",
   "execution_count": 36,
   "metadata": {},
   "outputs": [],
   "source": [
    "# change data type from object to bool\n",
    "properties.terrace = properties.terrace.astype('bool')"
   ]
  },
  {
   "cell_type": "code",
   "execution_count": 37,
   "metadata": {},
   "outputs": [
    {
     "data": {
      "text/plain": [
       "True     38333\n",
       "False    25809\n",
       "Name: terrace, dtype: int64"
      ]
     },
     "execution_count": 37,
     "metadata": {},
     "output_type": "execute_result"
    }
   ],
   "source": [
    "properties.terrace.value_counts(dropna=False)"
   ]
  },
  {
   "cell_type": "markdown",
   "metadata": {},
   "source": [
    "## 15.terrace_area"
   ]
  },
  {
   "cell_type": "code",
   "execution_count": 38,
   "metadata": {},
   "outputs": [
    {
     "data": {
      "text/plain": [
       "Series([], Name: terrace_area, dtype: object)"
      ]
     },
     "execution_count": 38,
     "metadata": {},
     "output_type": "execute_result"
    }
   ],
   "source": [
    "# replace 'None' to np.nan\n",
    "properties.terrace_area = properties.terrace_area.apply(lambda x : np.nan if x=='None' else x)\n",
    "properties.terrace_area[properties.terrace_area=='None']"
   ]
  },
  {
   "cell_type": "code",
   "execution_count": 39,
   "metadata": {},
   "outputs": [],
   "source": [
    "properties.terrace_area = properties.terrace_area.replace(True, np.nan)\n",
    "properties.terrace_area = properties.terrace_area.replace('TRUE', np.nan)"
   ]
  },
  {
   "cell_type": "code",
   "execution_count": 40,
   "metadata": {},
   "outputs": [],
   "source": [
    "# change data type from object to float64\n",
    "properties.terrace_area = properties.terrace_area.astype('float64')"
   ]
  },
  {
   "cell_type": "markdown",
   "metadata": {},
   "source": [
    "# 16.Garden"
   ]
  },
  {
   "cell_type": "code",
   "execution_count": 42,
   "metadata": {},
   "outputs": [],
   "source": [
    "# replace string False to False\n",
    "properties.garden = properties.garden.replace('False', False)"
   ]
  },
  {
   "cell_type": "code",
   "execution_count": 44,
   "metadata": {},
   "outputs": [
    {
     "data": {
      "text/plain": [
       "False    48112\n",
       "True     16030\n",
       "Name: garden, dtype: int64"
      ]
     },
     "execution_count": 44,
     "metadata": {},
     "output_type": "execute_result"
    }
   ],
   "source": [
    "# change data type from object to bool\n",
    "properties.garden = properties.garden.astype('bool')\n",
    "properties.garden.value_counts()"
   ]
  },
  {
   "cell_type": "markdown",
   "metadata": {},
   "source": [
    "## 17.Garden Area"
   ]
  },
  {
   "cell_type": "code",
   "execution_count": 48,
   "metadata": {},
   "outputs": [],
   "source": [
    "# replace None to np.nan\n",
    "properties.garden_area.fillna(value=np.NaN, inplace=True)\n",
    "properties.garden_area[properties.garden_area==None]\n",
    "\n",
    "# replace 'None' to np.nan\n",
    "properties.garden_area = properties.garden_area.apply(lambda x : np.nan if x=='None' else x)\n",
    "properties.garden_area[properties.garden_area=='None']\n",
    "\n",
    "# change data type of rooms_number from object to float64\n",
    "properties.garden_area = properties.garden_area.astype('float64')"
   ]
  },
  {
   "cell_type": "markdown",
   "metadata": {},
   "source": [
    "## 18.land_surface"
   ]
  },
  {
   "cell_type": "code",
   "execution_count": 49,
   "metadata": {},
   "outputs": [
    {
     "data": {
      "text/plain": [
       "Series([], Name: land_surface, dtype: object)"
      ]
     },
     "execution_count": 49,
     "metadata": {},
     "output_type": "execute_result"
    }
   ],
   "source": [
    "# replace np.nan TO 0\n",
    "properties.land_surface = properties.land_surface.replace(np.nan,0, regex=True)\n",
    "\n",
    "# replace None to np.nan\n",
    "\n",
    "properties.land_surface.fillna(value=np.nan, inplace=True)\n",
    "properties.land_surface[properties.land_surface=='None']\n",
    "\n",
    "\n",
    "# replace 'None' to np.nan\n",
    "properties.land_surface = properties.land_surface.apply(lambda x : np.nan if x=='None' else x)\n",
    "properties.land_surface[properties.land_surface=='None']"
   ]
  },
  {
   "cell_type": "markdown",
   "metadata": {},
   "source": [
    "## 19.land_plot_surface"
   ]
  },
  {
   "cell_type": "code",
   "execution_count": 50,
   "metadata": {},
   "outputs": [
    {
     "data": {
      "text/plain": [
       "Series([], Name: land_plot_surface, dtype: object)"
      ]
     },
     "execution_count": 50,
     "metadata": {},
     "output_type": "execute_result"
    }
   ],
   "source": [
    "# replace np.nan TO 0\n",
    "properties.land_plot_surface = properties.land_plot_surface.replace(np.nan,0, regex=True)\n",
    "\n",
    "# replace 'yes' from value to 0\n",
    "properties.land_plot_surface = properties.land_plot_surface.replace(r'\\w|\\W|\\s', '', regex=True)\n",
    "\n",
    "# replace None to np.nan\n",
    "\n",
    "properties.land_plot_surface.fillna(value=np.nan, inplace=True)\n",
    "properties.land_plot_surface[properties.land_surface=='None']\n",
    "\n",
    "\n",
    "# replace 'None' to np.nan\n",
    "properties.land_plot_surface = properties.land_plot_surface.apply(lambda x : np.nan if x=='None' else x)\n",
    "properties.land_plot_surface[properties.land_plot_surface=='None']"
   ]
  },
  {
   "cell_type": "markdown",
   "metadata": {},
   "source": [
    "## 20.facades_number"
   ]
  },
  {
   "cell_type": "code",
   "execution_count": 52,
   "metadata": {},
   "outputs": [],
   "source": [
    "# replace 'None' to np.nan\n",
    "properties.facades_number = properties.facades_number.apply(lambda x : np.nan if x=='None' else x)\n",
    "properties.facades_number[properties.facades_number=='None']\n",
    "\n",
    "# change data type of facades_number from object to float64\n",
    "properties.facades_number = properties.facades_number.astype('float64')"
   ]
  },
  {
   "cell_type": "markdown",
   "metadata": {},
   "source": [
    "## 21.swimming_pool_has"
   ]
  },
  {
   "cell_type": "code",
   "execution_count": 53,
   "metadata": {},
   "outputs": [
    {
     "data": {
      "text/plain": [
       "False    59007\n",
       "True      5135\n",
       "Name: swimming_pool_has, dtype: int64"
      ]
     },
     "execution_count": 53,
     "metadata": {},
     "output_type": "execute_result"
    }
   ],
   "source": [
    " #change numerical data to np.nan\n",
    "properties.swimming_pool_has = properties.swimming_pool_has.replace(r'\\d\\.?\\d?', 'np.nan', regex=True)\n",
    "\n",
    "# replace string False to False\n",
    "properties.swimming_pool_has = properties.swimming_pool_has.replace('False', False)\n",
    "\n",
    "# change data type from object to bool\n",
    "properties.swimming_pool_has = properties.swimming_pool_has.astype('bool')\n",
    "\n",
    "properties.swimming_pool_has.value_counts(dropna=False)"
   ]
  },
  {
   "cell_type": "markdown",
   "metadata": {},
   "source": [
    "## 22.building_state"
   ]
  },
  {
   "cell_type": "code",
   "execution_count": 54,
   "metadata": {},
   "outputs": [
    {
     "data": {
      "text/plain": [
       "array(['GOOD', 'AS_NEW', 'TO_RENOVATE', 'JUST_RENOVATED', 'TO_BE_DONE_UP',\n",
       "       'TO_RESTORE', nan, 'Not specified', 'None', 'New', 'old'],\n",
       "      dtype=object)"
      ]
     },
     "execution_count": 54,
     "metadata": {},
     "output_type": "execute_result"
    }
   ],
   "source": [
    "# change numerical data to np.nan\n",
    "properties.building_state = properties.building_state.replace(r'\\d\\.?\\d?', 'np.nan', regex=True)\n",
    "\n",
    "properties.building_state.unique()"
   ]
  },
  {
   "cell_type": "code",
   "execution_count": null,
   "metadata": {},
   "outputs": [],
   "source": []
  }
 ],
 "metadata": {
  "kernelspec": {
   "display_name": "Python 3",
   "language": "python",
   "name": "python3"
  },
  "language_info": {
   "codemirror_mode": {
    "name": "ipython",
    "version": 3
   },
   "file_extension": ".py",
   "mimetype": "text/x-python",
   "name": "python",
   "nbconvert_exporter": "python",
   "pygments_lexer": "ipython3",
   "version": "3.7.3"
  }
 },
 "nbformat": 4,
 "nbformat_minor": 2
}
