{
 "cells": [
  {
   "cell_type": "code",
   "execution_count": 1317,
   "metadata": {},
   "outputs": [],
   "source": [
    "import pandas as pd\n",
    "import numpy as np\n",
    "import re"
   ]
  },
  {
   "cell_type": "code",
   "execution_count": 1318,
   "metadata": {},
   "outputs": [
    {
     "data": {
      "text/html": [
       "<div>\n",
       "<style scoped>\n",
       "    .dataframe tbody tr th:only-of-type {\n",
       "        vertical-align: middle;\n",
       "    }\n",
       "\n",
       "    .dataframe tbody tr th {\n",
       "        vertical-align: top;\n",
       "    }\n",
       "\n",
       "    .dataframe thead th {\n",
       "        text-align: right;\n",
       "    }\n",
       "</style>\n",
       "<table border=\"1\" class=\"dataframe\">\n",
       "  <thead>\n",
       "    <tr style=\"text-align: right;\">\n",
       "      <th></th>\n",
       "      <th>source</th>\n",
       "      <th>hyperlink</th>\n",
       "      <th>locality</th>\n",
       "      <th>postcode</th>\n",
       "      <th>house_is</th>\n",
       "      <th>property_subtype</th>\n",
       "      <th>price</th>\n",
       "      <th>sale</th>\n",
       "      <th>rooms_number</th>\n",
       "      <th>area</th>\n",
       "      <th>...</th>\n",
       "      <th>open_fire</th>\n",
       "      <th>terrace</th>\n",
       "      <th>terrace_area</th>\n",
       "      <th>garden</th>\n",
       "      <th>garden_area</th>\n",
       "      <th>land_surface</th>\n",
       "      <th>land_plot_surface</th>\n",
       "      <th>facades_number</th>\n",
       "      <th>swimming_pool_has</th>\n",
       "      <th>building_state</th>\n",
       "    </tr>\n",
       "  </thead>\n",
       "  <tbody>\n",
       "    <tr>\n",
       "      <th>0</th>\n",
       "      <td>6</td>\n",
       "      <td>8901695</td>\n",
       "      <td>4180</td>\n",
       "      <td>4180.0</td>\n",
       "      <td>True</td>\n",
       "      <td>MIXED_USE_BUILDING</td>\n",
       "      <td>295000</td>\n",
       "      <td>NaN</td>\n",
       "      <td>3</td>\n",
       "      <td>242</td>\n",
       "      <td>...</td>\n",
       "      <td>False</td>\n",
       "      <td>True</td>\n",
       "      <td>36</td>\n",
       "      <td>True</td>\n",
       "      <td>1000</td>\n",
       "      <td>1403</td>\n",
       "      <td>1403</td>\n",
       "      <td>0</td>\n",
       "      <td>False</td>\n",
       "      <td>GOOD</td>\n",
       "    </tr>\n",
       "    <tr>\n",
       "      <th>1</th>\n",
       "      <td>6</td>\n",
       "      <td>8747010</td>\n",
       "      <td>8730</td>\n",
       "      <td>8730.0</td>\n",
       "      <td>True</td>\n",
       "      <td>VILLA</td>\n",
       "      <td>675000</td>\n",
       "      <td>NaN</td>\n",
       "      <td>4</td>\n",
       "      <td>349</td>\n",
       "      <td>...</td>\n",
       "      <td>False</td>\n",
       "      <td>False</td>\n",
       "      <td>0</td>\n",
       "      <td>True</td>\n",
       "      <td>977</td>\n",
       "      <td>1526</td>\n",
       "      <td>1526</td>\n",
       "      <td>0</td>\n",
       "      <td>False</td>\n",
       "      <td>AS_NEW</td>\n",
       "    </tr>\n",
       "    <tr>\n",
       "      <th>2</th>\n",
       "      <td>6</td>\n",
       "      <td>8775843</td>\n",
       "      <td>4020</td>\n",
       "      <td>4020.0</td>\n",
       "      <td>True</td>\n",
       "      <td>APARTMENT_BLOCK</td>\n",
       "      <td>250000</td>\n",
       "      <td>NaN</td>\n",
       "      <td>5</td>\n",
       "      <td>303</td>\n",
       "      <td>...</td>\n",
       "      <td>False</td>\n",
       "      <td>False</td>\n",
       "      <td>0</td>\n",
       "      <td>False</td>\n",
       "      <td>0</td>\n",
       "      <td>760</td>\n",
       "      <td>760</td>\n",
       "      <td>0</td>\n",
       "      <td>False</td>\n",
       "      <td>TO_RENOVATE</td>\n",
       "    </tr>\n",
       "    <tr>\n",
       "      <th>3</th>\n",
       "      <td>6</td>\n",
       "      <td>8910441</td>\n",
       "      <td>1200</td>\n",
       "      <td>1200.0</td>\n",
       "      <td>True</td>\n",
       "      <td>HOUSE</td>\n",
       "      <td>545000</td>\n",
       "      <td>NaN</td>\n",
       "      <td>4</td>\n",
       "      <td>235</td>\n",
       "      <td>...</td>\n",
       "      <td>False</td>\n",
       "      <td>False</td>\n",
       "      <td>0</td>\n",
       "      <td>False</td>\n",
       "      <td>0</td>\n",
       "      <td>63</td>\n",
       "      <td>63</td>\n",
       "      <td>0</td>\n",
       "      <td>False</td>\n",
       "      <td>JUST_RENOVATED</td>\n",
       "    </tr>\n",
       "    <tr>\n",
       "      <th>4</th>\n",
       "      <td>6</td>\n",
       "      <td>8758672</td>\n",
       "      <td>1190</td>\n",
       "      <td>1190.0</td>\n",
       "      <td>True</td>\n",
       "      <td>MIXED_USE_BUILDING</td>\n",
       "      <td>500000</td>\n",
       "      <td>NaN</td>\n",
       "      <td>2</td>\n",
       "      <td>220</td>\n",
       "      <td>...</td>\n",
       "      <td>False</td>\n",
       "      <td>False</td>\n",
       "      <td>0</td>\n",
       "      <td>True</td>\n",
       "      <td>60</td>\n",
       "      <td>193</td>\n",
       "      <td>193</td>\n",
       "      <td>0</td>\n",
       "      <td>False</td>\n",
       "      <td>AS_NEW</td>\n",
       "    </tr>\n",
       "  </tbody>\n",
       "</table>\n",
       "<p>5 rows × 22 columns</p>\n",
       "</div>"
      ],
      "text/plain": [
       "   source  hyperlink  locality  postcode house_is    property_subtype   \\\n",
       "0        6    8901695     4180    4180.0      True  MIXED_USE_BUILDING   \n",
       "1        6    8747010     8730    8730.0      True               VILLA   \n",
       "2        6    8775843     4020    4020.0      True     APARTMENT_BLOCK   \n",
       "3        6    8910441     1200    1200.0      True               HOUSE   \n",
       "4        6    8758672     1190    1190.0      True  MIXED_USE_BUILDING   \n",
       "\n",
       "    price sale rooms_number  area   ... open_fire  terrace  terrace_area  \\\n",
       "0  295000  NaN             3   242  ...      False     True           36   \n",
       "1  675000  NaN             4   349  ...      False    False            0   \n",
       "2  250000  NaN             5   303  ...      False    False            0   \n",
       "3  545000  NaN             4   235  ...      False    False            0   \n",
       "4  500000  NaN             2   220  ...      False    False            0   \n",
       "\n",
       "  garden  garden_area land_surface land_plot_surface  facades_number   \\\n",
       "0    True        1000         1403               1403               0   \n",
       "1    True         977         1526               1526               0   \n",
       "2   False           0          760                760               0   \n",
       "3   False           0           63                 63               0   \n",
       "4    True          60          193                193               0   \n",
       "\n",
       "  swimming_pool_has  building_state   \n",
       "0              False            GOOD  \n",
       "1              False          AS_NEW  \n",
       "2              False     TO_RENOVATE  \n",
       "3              False  JUST_RENOVATED  \n",
       "4              False          AS_NEW  \n",
       "\n",
       "[5 rows x 22 columns]"
      ]
     },
     "execution_count": 1318,
     "metadata": {},
     "output_type": "execute_result"
    }
   ],
   "source": [
    "df = pd.read_csv('../csv_files/properties.csv', low_memory=False)\n",
    "df.head()"
   ]
  },
  {
   "cell_type": "code",
   "execution_count": 1319,
   "metadata": {},
   "outputs": [
    {
     "data": {
      "text/plain": [
       "(75876, 22)"
      ]
     },
     "execution_count": 1319,
     "metadata": {},
     "output_type": "execute_result"
    }
   ],
   "source": [
    "df.shape"
   ]
  },
  {
   "cell_type": "markdown",
   "metadata": {},
   "source": [
    "# Remove leading and trailing spaces from column names"
   ]
  },
  {
   "cell_type": "code",
   "execution_count": 1320,
   "metadata": {},
   "outputs": [],
   "source": [
    "df.columns = [x.strip(' ') for x in df.columns.values]"
   ]
  },
  {
   "cell_type": "markdown",
   "metadata": {},
   "source": [
    "# Remove leading and trailing spaces of every element"
   ]
  },
  {
   "cell_type": "code",
   "execution_count": 1321,
   "metadata": {},
   "outputs": [],
   "source": [
    "# remove leading and trailing spaces and newline characters from values if they are a string\n",
    "df = df.applymap(lambda x: x.strip() if type(x)==str else x)"
   ]
  },
  {
   "cell_type": "markdown",
   "metadata": {},
   "source": [
    "#### 1. PostCode"
   ]
  },
  {
   "cell_type": "code",
   "execution_count": 1322,
   "metadata": {},
   "outputs": [
    {
     "data": {
      "text/plain": [
       "Int64Dtype()"
      ]
     },
     "execution_count": 1322,
     "metadata": {},
     "output_type": "execute_result"
    }
   ],
   "source": [
    "# 1 Converts postCode into int64\n",
    "\n",
    "df['postcode'] = df['postcode'].astype('Int64')\n",
    "df['postcode'].dtypes"
   ]
  },
  {
   "cell_type": "markdown",
   "metadata": {},
   "source": [
    "#### 2. Price"
   ]
  },
  {
   "cell_type": "code",
   "execution_count": 1323,
   "metadata": {},
   "outputs": [],
   "source": [
    "# 2 Converting price\n",
    "def grabs_strips(x):\n",
    "    if type(x) == str:\n",
    "        # return x.str.extract('(\\d*\\.?\\d*)', expand=False).astype(float)\n",
    "        return re.match(r'(\\d*(,\\d{3})*\\.?\\d*)', x).group()\n",
    "    return x\n",
    "\n",
    "\n",
    "df['price'] = df['price'].apply(grabs_strips)"
   ]
  },
  {
   "cell_type": "code",
   "execution_count": 1324,
   "metadata": {},
   "outputs": [],
   "source": [
    "# Conversion into float\n",
    "df['price'] = pd.to_numeric(df['price'], errors='coerce')"
   ]
  },
  {
   "cell_type": "code",
   "execution_count": 1325,
   "metadata": {},
   "outputs": [
    {
     "data": {
      "text/plain": [
       "(75876,)"
      ]
     },
     "execution_count": 1325,
     "metadata": {},
     "output_type": "execute_result"
    }
   ],
   "source": [
    "df['price'].shape"
   ]
  },
  {
   "cell_type": "code",
   "execution_count": 1326,
   "metadata": {},
   "outputs": [
    {
     "data": {
      "text/plain": [
       "(69778, 22)"
      ]
     },
     "execution_count": 1326,
     "metadata": {},
     "output_type": "execute_result"
    }
   ],
   "source": [
    "df.dropna(subset=['price'], inplace=True)\n",
    "df.shape"
   ]
  },
  {
   "cell_type": "markdown",
   "metadata": {},
   "source": [
    "## 3.house_is"
   ]
  },
  {
   "cell_type": "code",
   "execution_count": 1327,
   "metadata": {},
   "outputs": [],
   "source": [
    "# fonction to Update the most relevant value of proprety_subtype\n",
    "\n",
    "def updates_house_is(row):\n",
    "    \n",
    "    house_sub_type = ['HOUSE','house','VILLA','EXCEPTIONAL_PROPERTY', 'MANSION', 'villa', 'House', 'TOWN_HOUSE'\n",
    "                      , 'Villa', 'COUNTRY-COTTAGE' ]\n",
    "    \n",
    "    app_sub_type = ['APARTEMENT', 'APARTEMENT','apartment','MIXED_USE_BUILDING','Apartment','DUPLEX','PENTHOUSE',\n",
    "                   'APARTMENT_BLOCK','GROUND_FLOOR', 'duplex', 'ground-floor', 'Loft/Attic', 'APARTMENT_GROUP'\n",
    "                    , 'Penthouse', 'penthouse', 'flat-studio', 'APARTMENT', 'apartement', 'Apartement']\n",
    "    \n",
    "    if row['property_subtype'] in house_sub_type:\n",
    "        return True\n",
    "    elif row['property_subtype'] in app_sub_type:\n",
    "        return False\n",
    "    return np.nan\n",
    "\n",
    "# Storing in house_is prop of the df\n",
    "df['house_is'] = df.apply(updates_house_is, axis=1)\n",
    "df.house_is = df.house_is.astype('float64')"
   ]
  },
  {
   "cell_type": "markdown",
   "metadata": {},
   "source": [
    "## 4.Sale"
   ]
  },
  {
   "cell_type": "code",
   "execution_count": 1328,
   "metadata": {},
   "outputs": [],
   "source": [
    "df.sale = df['sale'].replace({\n",
    "    'Wohnung': \"Unknown\",\n",
    "    'Appartement': \"Unknown\",\n",
    "    'Apartamento': \"Unknown\",\n",
    "    '': \"Unknown\",\n",
    "    'None': \"Unknown\",\n",
    "    \"unknown\":\"Unknown\",\n",
    "    \"Maison\":\"Unknown\",\n",
    "    \"Huis\":\"Unknown\",\n",
    "    \"House\":\"Unknown\"\n",
    "})\n",
    "\n",
    "df.sale = df['sale'].fillna('Unknown')"
   ]
  },
  {
   "cell_type": "markdown",
   "metadata": {},
   "source": [
    "## 5.property_subtype"
   ]
  },
  {
   "cell_type": "code",
   "execution_count": 1329,
   "metadata": {},
   "outputs": [],
   "source": [
    "df.property_subtype = df['property_subtype'].replace({\n",
    "    'house': \"HOUSE\",\n",
    "    'House': \"HOUSE\",\n",
    "    'apartment': \"APARTMENT\",\n",
    "    '': \"Unknown\",\n",
    "    'villa': \"VILLA\",\n",
    "    \"duplex\":\"DUPLEX\",\n",
    "    \"Huis\":\"HOUSE\",\n",
    "    \"Maison\":\"HOUSE\",\n",
    "    'penthouse':'PENTHOUSE',\n",
    "    'flat-studio':'FLAT_STUDIO',\n",
    "    'ground-floor':'GROUND_FLOOR'\n",
    "})\n",
    "\n",
    "df.property_subtype = df['property_subtype'].fillna('Unknown')"
   ]
  },
  {
   "cell_type": "markdown",
   "metadata": {},
   "source": [
    "## 9.room_number"
   ]
  },
  {
   "cell_type": "code",
   "execution_count": 1330,
   "metadata": {},
   "outputs": [
    {
     "data": {
      "text/plain": [
       "Series([], Name: rooms_number, dtype: object)"
      ]
     },
     "execution_count": 1330,
     "metadata": {},
     "output_type": "execute_result"
    }
   ],
   "source": [
    "# replace None to np.nan\n",
    "df.rooms_number.fillna(value=np.nan, inplace=True)\n",
    "df.rooms_number[df.rooms_number==None]"
   ]
  },
  {
   "cell_type": "code",
   "execution_count": 1331,
   "metadata": {},
   "outputs": [
    {
     "data": {
      "text/plain": [
       "Series([], Name: rooms_number, dtype: object)"
      ]
     },
     "execution_count": 1331,
     "metadata": {},
     "output_type": "execute_result"
    }
   ],
   "source": [
    "# replace 'None' to np.nan\n",
    "df.rooms_number = df.rooms_number.apply(lambda x : np.nan if x=='None' else x)\n",
    "df.rooms_number[df.rooms_number=='None']"
   ]
  },
  {
   "cell_type": "code",
   "execution_count": 1332,
   "metadata": {},
   "outputs": [],
   "source": [
    "# change data type of rooms_number from object to float64\n",
    "df.rooms_number = df.rooms_number.astype('float64')"
   ]
  },
  {
   "cell_type": "markdown",
   "metadata": {},
   "source": [
    "## 10.area"
   ]
  },
  {
   "cell_type": "code",
   "execution_count": 1333,
   "metadata": {},
   "outputs": [],
   "source": [
    "# remove 'm2' from value of area\n",
    "df.area = df.area.replace(\"[^0-9.-]\", \"\", regex=True)"
   ]
  },
  {
   "cell_type": "code",
   "execution_count": 1334,
   "metadata": {},
   "outputs": [],
   "source": [
    "# replace 'm2' from value of area\n",
    "df.area = df.area.replace('', np.nan)"
   ]
  },
  {
   "cell_type": "code",
   "execution_count": 1335,
   "metadata": {},
   "outputs": [],
   "source": [
    "# replace None to np.nan\n",
    "df.area.fillna(value=np.nan, inplace=True)"
   ]
  },
  {
   "cell_type": "code",
   "execution_count": 1336,
   "metadata": {},
   "outputs": [],
   "source": [
    "# replace 'None' to np.nan\n",
    "df.area = df.area.apply(lambda x : np.nan if x=='None' else x)"
   ]
  },
  {
   "cell_type": "code",
   "execution_count": 1337,
   "metadata": {},
   "outputs": [],
   "source": [
    "# change data type from object to float64\n",
    "df.area = df.area.astype('float64')"
   ]
  },
  {
   "cell_type": "markdown",
   "metadata": {},
   "source": [
    "## 11.kitchen_has"
   ]
  },
  {
   "cell_type": "code",
   "execution_count": 1338,
   "metadata": {},
   "outputs": [
    {
     "data": {
      "text/plain": [
       "True     49905\n",
       "False    15562\n",
       "NaN       4311\n",
       "Name: kitchen_has, dtype: int64"
      ]
     },
     "execution_count": 1338,
     "metadata": {},
     "output_type": "execute_result"
    }
   ],
   "source": [
    "df.kitchen_has.value_counts(dropna=False)"
   ]
  },
  {
   "cell_type": "code",
   "execution_count": 1339,
   "metadata": {},
   "outputs": [],
   "source": [
    "# change data type from object to float64\n",
    "df.kitchen_has = df.kitchen_has.astype('float64')"
   ]
  },
  {
   "cell_type": "code",
   "execution_count": 1340,
   "metadata": {},
   "outputs": [
    {
     "data": {
      "text/plain": [
       "1.0    49905\n",
       "0.0    15562\n",
       "NaN     4311\n",
       "Name: kitchen_has, dtype: int64"
      ]
     },
     "execution_count": 1340,
     "metadata": {},
     "output_type": "execute_result"
    }
   ],
   "source": [
    "df.kitchen_has.value_counts(dropna=False)"
   ]
  },
  {
   "cell_type": "markdown",
   "metadata": {},
   "source": [
    "## 12.furnished"
   ]
  },
  {
   "cell_type": "code",
   "execution_count": 1341,
   "metadata": {},
   "outputs": [],
   "source": [
    "# change data type from object to float64\n",
    "df.furnished = df.furnished.astype('float64')"
   ]
  },
  {
   "cell_type": "markdown",
   "metadata": {},
   "source": [
    "## 13.open_fire"
   ]
  },
  {
   "cell_type": "code",
   "execution_count": 1342,
   "metadata": {},
   "outputs": [],
   "source": [
    "# change data type from object to float64\n",
    "df.open_fire = df.open_fire.astype('float64')"
   ]
  },
  {
   "cell_type": "markdown",
   "metadata": {},
   "source": [
    "## 14.terrace"
   ]
  },
  {
   "cell_type": "code",
   "execution_count": 1343,
   "metadata": {},
   "outputs": [],
   "source": [
    "# change numerical data to np.nan\n",
    "df.terrace = df.terrace.replace(r'\\d\\.?\\d?', True, regex=True)"
   ]
  },
  {
   "cell_type": "code",
   "execution_count": 1344,
   "metadata": {},
   "outputs": [],
   "source": [
    "# replace string False to False\n",
    "df.terrace = df.terrace.replace('False', False)"
   ]
  },
  {
   "cell_type": "code",
   "execution_count": 1345,
   "metadata": {},
   "outputs": [],
   "source": [
    "# replace string False to False\n",
    "df.terrace = df.terrace.replace('TRUE', True)"
   ]
  },
  {
   "cell_type": "code",
   "execution_count": 1346,
   "metadata": {},
   "outputs": [],
   "source": [
    "# replace string False to False\n",
    "df.terrace = df.terrace.replace('True', True)"
   ]
  },
  {
   "cell_type": "code",
   "execution_count": 1347,
   "metadata": {},
   "outputs": [],
   "source": [
    "# change data type from object to bool\n",
    "df.terrace = df.terrace.astype('float64')"
   ]
  },
  {
   "cell_type": "code",
   "execution_count": 1348,
   "metadata": {},
   "outputs": [
    {
     "data": {
      "text/plain": [
       "1.0    34219\n",
       "0.0    25809\n",
       "NaN     9750\n",
       "Name: terrace, dtype: int64"
      ]
     },
     "execution_count": 1348,
     "metadata": {},
     "output_type": "execute_result"
    }
   ],
   "source": [
    "df.terrace.value_counts(dropna=False)"
   ]
  },
  {
   "cell_type": "markdown",
   "metadata": {},
   "source": [
    "## 15.terrace_area"
   ]
  },
  {
   "cell_type": "code",
   "execution_count": 1349,
   "metadata": {},
   "outputs": [
    {
     "data": {
      "text/plain": [
       "Series([], Name: terrace_area, dtype: object)"
      ]
     },
     "execution_count": 1349,
     "metadata": {},
     "output_type": "execute_result"
    }
   ],
   "source": [
    "# replace 'None' to np.nan\n",
    "df.terrace_area = df.terrace_area.apply(lambda x : np.nan if x=='None' else x)\n",
    "df.terrace_area[df.terrace_area=='None']"
   ]
  },
  {
   "cell_type": "code",
   "execution_count": 1350,
   "metadata": {},
   "outputs": [],
   "source": [
    "df.terrace_area = df.terrace_area.replace(True, np.nan)\n",
    "df.terrace_area = df.terrace_area.replace('TRUE', np.nan)"
   ]
  },
  {
   "cell_type": "code",
   "execution_count": 1351,
   "metadata": {},
   "outputs": [],
   "source": [
    "    # change data type from object to float64\n",
    "    df.terrace_area = df.terrace_area.astype('float64')"
   ]
  },
  {
   "cell_type": "markdown",
   "metadata": {},
   "source": [
    "## 16.Garden"
   ]
  },
  {
   "cell_type": "code",
   "execution_count": 1352,
   "metadata": {},
   "outputs": [],
   "source": [
    "# replace string False to False\n",
    "df.garden = df.garden.replace('False', False)"
   ]
  },
  {
   "cell_type": "code",
   "execution_count": 1353,
   "metadata": {},
   "outputs": [],
   "source": [
    "# replace string False to False\n",
    "df.garden = df.garden.replace('True', True)"
   ]
  },
  {
   "cell_type": "code",
   "execution_count": 1354,
   "metadata": {},
   "outputs": [],
   "source": [
    "# change data type from object to bool\n",
    "df.garden = df.garden.astype('float64')"
   ]
  },
  {
   "cell_type": "markdown",
   "metadata": {},
   "source": [
    "## 17.Garden Area"
   ]
  },
  {
   "cell_type": "code",
   "execution_count": 1355,
   "metadata": {},
   "outputs": [],
   "source": [
    "# replace None to np.nan\n",
    "df.garden_area.fillna(value=np.NaN, inplace=True)\n",
    "df.garden_area[df.garden_area==None]\n",
    "\n",
    "# replace 'None' to np.nan\n",
    "df.garden_area = df.garden_area.apply(lambda x : np.nan if x=='None' else x)\n",
    "df.garden_area[df.garden_area=='None']\n",
    "\n",
    "# change data type of rooms_number from object to float64\n",
    "df.garden_area = df.garden_area.astype('float64')"
   ]
  },
  {
   "cell_type": "markdown",
   "metadata": {},
   "source": [
    "## 18.land_surface"
   ]
  },
  {
   "cell_type": "code",
   "execution_count": 1356,
   "metadata": {},
   "outputs": [],
   "source": [
    "# replace None to np.nan\n",
    "df.land_surface.fillna(value=np.NaN, inplace=True)\n",
    "\n",
    "# replace np.nan TO 0\n",
    "df.land_surface = df.land_surface.replace(np.nan, 0)\n",
    "\n",
    "# replace None to np.nan\n",
    "df.land_surface.fillna(value=np.nan, inplace=True)\n",
    "\n",
    "# replace 'None' to np.nan\n",
    "df.land_surface = df.land_surface.apply(lambda x : np.nan if x=='None' else x)\n",
    "\n",
    "# change data type of rooms_number from object to float64\n",
    "df.land_surface = df.land_surface.astype('float64')"
   ]
  },
  {
   "cell_type": "markdown",
   "metadata": {},
   "source": [
    "## 19.land_plot_surface"
   ]
  },
  {
   "cell_type": "code",
   "execution_count": 1357,
   "metadata": {},
   "outputs": [],
   "source": [
    "# replace 'yes' from value to 0\n",
    "df.land_plot_surface = df.land_plot_surface.replace(\"[^0-9.-]\", \"\", regex=True)\n",
    "\n",
    "# replace 'm2' from value of area\n",
    "df.land_plot_surface = df.land_plot_surface.replace('', np.nan)\n",
    "\n",
    "# replace None to np.nan\n",
    "df.land_plot_surface.fillna(value=np.nan, inplace=True)\n",
    "\n",
    "# replace 'None' to np.nan\n",
    "df.land_plot_surface = df.land_plot_surface.apply(lambda x : np.nan if x=='None' else x)\n",
    "\n",
    "# change data type of rooms_number from object to float64\n",
    "df.land_plot_surface = df.land_plot_surface.astype('float64')"
   ]
  },
  {
   "cell_type": "markdown",
   "metadata": {},
   "source": [
    "## 20.facades_number"
   ]
  },
  {
   "cell_type": "code",
   "execution_count": 1358,
   "metadata": {},
   "outputs": [],
   "source": [
    "# replace 'None' to np.nan\n",
    "df.facades_number = df.facades_number.apply(lambda x : np.nan if x=='None' else x)\n",
    "df.facades_number[df.facades_number=='None']\n",
    "\n",
    "# change data type of facades_number from object to float64\n",
    "df.facades_number = df.facades_number.astype('float64')"
   ]
  },
  {
   "cell_type": "markdown",
   "metadata": {},
   "source": [
    "## 21.swimming_pool_has"
   ]
  },
  {
   "cell_type": "code",
   "execution_count": 1359,
   "metadata": {},
   "outputs": [
    {
     "data": {
      "text/plain": [
       "0.0    59365\n",
       "NaN     8451\n",
       "1.0     1962\n",
       "Name: swimming_pool_has, dtype: int64"
      ]
     },
     "execution_count": 1359,
     "metadata": {},
     "output_type": "execute_result"
    }
   ],
   "source": [
    " #change numerical data to np.nan\n",
    "df.swimming_pool_has = df.swimming_pool_has.replace(r'\\d\\.?\\d?', np.nan, regex=True)\n",
    "\n",
    "# replace string False to False\n",
    "df.swimming_pool_has = df.swimming_pool_has.replace('False', False)\n",
    "\n",
    "# change data type from object to bool\n",
    "df.swimming_pool_has = df.swimming_pool_has.astype('float64')\n",
    "\n",
    "df.swimming_pool_has.value_counts(dropna=False)"
   ]
  },
  {
   "cell_type": "markdown",
   "metadata": {},
   "source": [
    "## 22.building_state"
   ]
  },
  {
   "cell_type": "code",
   "execution_count": 1360,
   "metadata": {},
   "outputs": [
    {
     "data": {
      "text/plain": [
       "array(['GOOD', 'AS_NEW', 'TO_RENOVATE', 'JUST_RENOVATED', 'TO_BE_DONE_UP',\n",
       "       'TO_RESTORE', 'Not specified'], dtype=object)"
      ]
     },
     "execution_count": 1360,
     "metadata": {},
     "output_type": "execute_result"
    }
   ],
   "source": [
    "# change numerical data to np.nan\n",
    "df.building_state = df.building_state.replace(r'\\d\\.?\\d?', np.nan, regex=True)\n",
    "df.building_state = df.building_state.apply(lambda x : np.nan if x=='None' else x)\n",
    "df.building_state = df.building_state.replace(np.nan, 'Not specified')\n",
    "df.building_state.unique()"
   ]
  },
  {
   "cell_type": "markdown",
   "metadata": {},
   "source": [
    "# Check if there are columns with mixed data types ==> NO"
   ]
  },
  {
   "cell_type": "code",
   "execution_count": 1361,
   "metadata": {},
   "outputs": [
    {
     "data": {
      "text/plain": [
       "source                integer\n",
       "hyperlink              string\n",
       "locality               string\n",
       "postcode              integer\n",
       "house_is             floating\n",
       "property_subtype       string\n",
       "price                floating\n",
       "sale                   string\n",
       "rooms_number         floating\n",
       "area                 floating\n",
       "kitchen_has          floating\n",
       "furnished            floating\n",
       "open_fire            floating\n",
       "terrace              floating\n",
       "terrace_area         floating\n",
       "garden               floating\n",
       "garden_area          floating\n",
       "land_surface         floating\n",
       "land_plot_surface    floating\n",
       "facades_number       floating\n",
       "swimming_pool_has    floating\n",
       "building_state         string\n",
       "dtype: object"
      ]
     },
     "execution_count": 1361,
     "metadata": {},
     "output_type": "execute_result"
    }
   ],
   "source": [
    "from pandas.api.types import infer_dtype\n",
    "# print data type of each column to check if there are\n",
    "# any mixed ones, turns out that there are none\n",
    "def is_mixed(col):\n",
    "    return infer_dtype(col)\n",
    "\n",
    "df.apply(is_mixed)\n",
    "\n",
    "# ==> there are no columns with 'mixed' part of the inferred datatype"
   ]
  },
  {
   "cell_type": "markdown",
   "metadata": {},
   "source": [
    "## Find which kind of empties there are ==> there are only NaNs"
   ]
  },
  {
   "cell_type": "code",
   "execution_count": 1362,
   "metadata": {},
   "outputs": [
    {
     "data": {
      "text/plain": [
       "(array([  366,   420,   550, ..., 69777, 69777, 69777]),\n",
       " array([ 4,  4,  4, ..., 18, 19, 20]))"
      ]
     },
     "execution_count": 1362,
     "metadata": {},
     "output_type": "execute_result"
    }
   ],
   "source": [
    "# are there any empty strings? ==> no\n",
    "#print(np.where(df.applymap(lambda x: x == '')))\n",
    "\n",
    "# are there any NaNs? ==> yes\n",
    "np.where(pd.isnull(df))"
   ]
  },
  {
   "cell_type": "markdown",
   "metadata": {},
   "source": [
    "# Display the percent of NaNs per column"
   ]
  },
  {
   "cell_type": "code",
   "execution_count": 1363,
   "metadata": {},
   "outputs": [
    {
     "data": {
      "text/html": [
       "<div>\n",
       "<style scoped>\n",
       "    .dataframe tbody tr th:only-of-type {\n",
       "        vertical-align: middle;\n",
       "    }\n",
       "\n",
       "    .dataframe tbody tr th {\n",
       "        vertical-align: top;\n",
       "    }\n",
       "\n",
       "    .dataframe thead th {\n",
       "        text-align: right;\n",
       "    }\n",
       "</style>\n",
       "<table border=\"1\" class=\"dataframe\">\n",
       "  <thead>\n",
       "    <tr style=\"text-align: right;\">\n",
       "      <th></th>\n",
       "      <th>%_missing</th>\n",
       "    </tr>\n",
       "  </thead>\n",
       "  <tbody>\n",
       "    <tr>\n",
       "      <th>garden_area</th>\n",
       "      <td>32.752443</td>\n",
       "    </tr>\n",
       "    <tr>\n",
       "      <th>terrace_area</th>\n",
       "      <td>31.733498</td>\n",
       "    </tr>\n",
       "    <tr>\n",
       "      <th>land_plot_surface</th>\n",
       "      <td>27.958669</td>\n",
       "    </tr>\n",
       "    <tr>\n",
       "      <th>hyperlink</th>\n",
       "      <td>15.453295</td>\n",
       "    </tr>\n",
       "    <tr>\n",
       "      <th>facades_number</th>\n",
       "      <td>14.720972</td>\n",
       "    </tr>\n",
       "    <tr>\n",
       "      <th>land_surface</th>\n",
       "      <td>14.020178</td>\n",
       "    </tr>\n",
       "    <tr>\n",
       "      <th>terrace</th>\n",
       "      <td>13.972885</td>\n",
       "    </tr>\n",
       "    <tr>\n",
       "      <th>swimming_pool_has</th>\n",
       "      <td>12.111267</td>\n",
       "    </tr>\n",
       "    <tr>\n",
       "      <th>garden</th>\n",
       "      <td>10.622259</td>\n",
       "    </tr>\n",
       "    <tr>\n",
       "      <th>furnished</th>\n",
       "      <td>8.319241</td>\n",
       "    </tr>\n",
       "    <tr>\n",
       "      <th>open_fire</th>\n",
       "      <td>7.912236</td>\n",
       "    </tr>\n",
       "    <tr>\n",
       "      <th>house_is</th>\n",
       "      <td>6.729915</td>\n",
       "    </tr>\n",
       "    <tr>\n",
       "      <th>kitchen_has</th>\n",
       "      <td>6.178165</td>\n",
       "    </tr>\n",
       "    <tr>\n",
       "      <th>area</th>\n",
       "      <td>5.232308</td>\n",
       "    </tr>\n",
       "    <tr>\n",
       "      <th>postcode</th>\n",
       "      <td>4.366706</td>\n",
       "    </tr>\n",
       "    <tr>\n",
       "      <th>rooms_number</th>\n",
       "      <td>0.308120</td>\n",
       "    </tr>\n",
       "    <tr>\n",
       "      <th>locality</th>\n",
       "      <td>0.002866</td>\n",
       "    </tr>\n",
       "    <tr>\n",
       "      <th>source</th>\n",
       "      <td>0.000000</td>\n",
       "    </tr>\n",
       "    <tr>\n",
       "      <th>sale</th>\n",
       "      <td>0.000000</td>\n",
       "    </tr>\n",
       "    <tr>\n",
       "      <th>price</th>\n",
       "      <td>0.000000</td>\n",
       "    </tr>\n",
       "    <tr>\n",
       "      <th>property_subtype</th>\n",
       "      <td>0.000000</td>\n",
       "    </tr>\n",
       "    <tr>\n",
       "      <th>building_state</th>\n",
       "      <td>0.000000</td>\n",
       "    </tr>\n",
       "  </tbody>\n",
       "</table>\n",
       "</div>"
      ],
      "text/plain": [
       "                   %_missing\n",
       "garden_area        32.752443\n",
       "terrace_area       31.733498\n",
       "land_plot_surface  27.958669\n",
       "hyperlink          15.453295\n",
       "facades_number     14.720972\n",
       "land_surface       14.020178\n",
       "terrace            13.972885\n",
       "swimming_pool_has  12.111267\n",
       "garden             10.622259\n",
       "furnished           8.319241\n",
       "open_fire           7.912236\n",
       "house_is            6.729915\n",
       "kitchen_has         6.178165\n",
       "area                5.232308\n",
       "postcode            4.366706\n",
       "rooms_number        0.308120\n",
       "locality            0.002866\n",
       "source              0.000000\n",
       "sale                0.000000\n",
       "price               0.000000\n",
       "property_subtype    0.000000\n",
       "building_state      0.000000"
      ]
     },
     "execution_count": 1363,
     "metadata": {},
     "output_type": "execute_result"
    }
   ],
   "source": [
    "# display the percent of NaNs per column\n",
    "percent_missing = df.isnull().sum() * 100 / len(df)\n",
    "missing_value_df = pd.DataFrame({'%_missing': percent_missing})\n",
    "missing_value_df = missing_value_df.sort_values('%_missing', ascending = False)\n",
    "missing_value_df"
   ]
  },
  {
   "cell_type": "markdown",
   "metadata": {},
   "source": [
    "### Put 'unknown' in place of NaN for everything else than int64 and float64 columns\n",
    "### Please run this after converting numerical columns like price and facades from string to integer.\n",
    "#### Even a value of NaN might help predict the price, so to avoid the correlation algorithm skipping it?, and because NaN is not allowed, we replace it."
   ]
  },
  {
   "cell_type": "code",
   "execution_count": 1364,
   "metadata": {},
   "outputs": [],
   "source": [
    "# replace all NaNs in strings with 'unknown'\n",
    "df_nanfilled = df.select_dtypes(exclude=['int64','float64']).replace(np.nan, 'unknown')\n",
    "df.update(df_nanfilled)\n",
    "\n",
    "# replace all 'None'/'none' strings with uknown\n",
    "df_nonefilled = df.select_dtypes(exclude=['int64','float64']).replace('none', 'unknown')\n",
    "df.update(df_nonefilled)\n",
    "df_nonefilled = df.select_dtypes(exclude=['int64','float64']).replace('None', 'unknown')\n",
    "df.update(df_nonefilled)"
   ]
  },
  {
   "cell_type": "code",
   "execution_count": 1365,
   "metadata": {},
   "outputs": [
    {
     "name": "stdout",
     "output_type": "stream",
     "text": [
      "<class 'pandas.core.frame.DataFrame'>\n",
      "Int64Index: 69778 entries, 0 to 75875\n",
      "Data columns (total 22 columns):\n",
      " #   Column             Non-Null Count  Dtype  \n",
      "---  ------             --------------  -----  \n",
      " 0   source             69778 non-null  int64  \n",
      " 1   hyperlink          69778 non-null  object \n",
      " 2   locality           69778 non-null  object \n",
      " 3   postcode           66731 non-null  Int64  \n",
      " 4   house_is           65082 non-null  float64\n",
      " 5   property_subtype   69778 non-null  object \n",
      " 6   price              69778 non-null  float64\n",
      " 7   sale               69778 non-null  object \n",
      " 8   rooms_number       69563 non-null  float64\n",
      " 9   area               66127 non-null  float64\n",
      " 10  kitchen_has        65467 non-null  float64\n",
      " 11  furnished          63973 non-null  float64\n",
      " 12  open_fire          64257 non-null  float64\n",
      " 13  terrace            60028 non-null  float64\n",
      " 14  terrace_area       47635 non-null  float64\n",
      " 15  garden             62366 non-null  float64\n",
      " 16  garden_area        46924 non-null  float64\n",
      " 17  land_surface       59995 non-null  float64\n",
      " 18  land_plot_surface  50269 non-null  float64\n",
      " 19  facades_number     59506 non-null  float64\n",
      " 20  swimming_pool_has  61327 non-null  float64\n",
      " 21  building_state     69778 non-null  object \n",
      "dtypes: Int64(1), float64(15), int64(1), object(5)\n",
      "memory usage: 12.3+ MB\n"
     ]
    }
   ],
   "source": [
    "df.info()"
   ]
  },
  {
   "cell_type": "markdown",
   "metadata": {},
   "source": [
    "# Remove duplicates\n",
    "### should execute after fixing columns\n",
    "### should execute after removing non-property detail or incomplete columns: source and hyperlink"
   ]
  },
  {
   "cell_type": "code",
   "execution_count": 1366,
   "metadata": {},
   "outputs": [
    {
     "name": "stdout",
     "output_type": "stream",
     "text": [
      "Dropped: -21652\n"
     ]
    }
   ],
   "source": [
    "# drop columns \n",
    "df.drop(['source', 'hyperlink'], axis = 1, inplace = True)\n",
    "\n",
    "# drop 100% duplicate rows\n",
    "lenght_before = len(df)\n",
    "df.drop_duplicates(ignore_index = True, inplace = True)\n",
    "dropped = len(df) - lenght_before\n",
    "print(f'Dropped: {dropped}')"
   ]
  },
  {
   "cell_type": "markdown",
   "metadata": {},
   "source": [
    "## 6.locality and postcode\n",
    "### Drop postcode column, because postcode is more completely available in 'locality'\n",
    "### first we fix 'locality' column to carry just postcode or 'unknown' (stripping sporadic address parts)"
   ]
  },
  {
   "cell_type": "code",
   "execution_count": 1367,
   "metadata": {},
   "outputs": [],
   "source": [
    "df.drop('postcode', axis = 1, inplace = True)\n",
    "\n",
    "# write a function that returns the cleaned postcode from elements\n",
    "# containing the address\n",
    "def clean_locality(locality): \n",
    "    # Search for the presence of a 4 digit number (starts with 1-9)\n",
    "    if re.search('[1-9]\\d{3}', locality):\n",
    "        # get the number\n",
    "        return re.findall(\"[1-9]\\d{3}\", locality)[0]\n",
    "    else: \n",
    "        # if no postcode is inside insert 'unknown' \n",
    "        return 'unknown'\n",
    "          \n",
    "# Updated locality column\n",
    "df['locality'] = df['locality'].apply(clean_locality)"
   ]
  },
  {
   "cell_type": "markdown",
   "metadata": {},
   "source": [
    "## 7.Create a region column"
   ]
  },
  {
   "cell_type": "code",
   "execution_count": 1368,
   "metadata": {},
   "outputs": [],
   "source": [
    "def get_region(locality):\n",
    "    if locality == 'unknown':\n",
    "        return 'unknown'\n",
    "    else:\n",
    "        if not re.search('[1-9]\\d{3}', locality):\n",
    "            print('Please run this on already cleaned locality column')\n",
    "            return 'unknown'\n",
    "        elif int(locality) >= 1000 and int(locality) <=1299:\n",
    "            return 'Brussels'\n",
    "        elif int(locality) >= 1300 and int(locality) <=1499:\n",
    "            return 'Wallonia'\n",
    "        elif int(locality) >= 4000 and int(locality) <=7999:\n",
    "            return 'Wallonia'\n",
    "        else:\n",
    "            return 'Flanders'\n",
    "        \n",
    "df['region'] = df['locality'].apply(get_region)"
   ]
  },
  {
   "cell_type": "markdown",
   "metadata": {},
   "source": [
    "# Print unique values per column"
   ]
  },
  {
   "cell_type": "code",
   "execution_count": 1369,
   "metadata": {},
   "outputs": [
    {
     "data": {
      "text/html": [
       "<div>\n",
       "<style scoped>\n",
       "    .dataframe tbody tr th:only-of-type {\n",
       "        vertical-align: middle;\n",
       "    }\n",
       "\n",
       "    .dataframe tbody tr th {\n",
       "        vertical-align: top;\n",
       "    }\n",
       "\n",
       "    .dataframe thead th {\n",
       "        text-align: right;\n",
       "    }\n",
       "</style>\n",
       "<table border=\"1\" class=\"dataframe\">\n",
       "  <thead>\n",
       "    <tr style=\"text-align: right;\">\n",
       "      <th></th>\n",
       "      <th>locality_value</th>\n",
       "      <th>locality_count</th>\n",
       "      <th>house_is_value</th>\n",
       "      <th>house_is_count</th>\n",
       "      <th>property_subtype_value</th>\n",
       "      <th>property_subtype_count</th>\n",
       "      <th>price_value</th>\n",
       "      <th>price_count</th>\n",
       "      <th>sale_value</th>\n",
       "      <th>sale_count</th>\n",
       "      <th>...</th>\n",
       "      <th>land_plot_surface_value</th>\n",
       "      <th>land_plot_surface_count</th>\n",
       "      <th>facades_number_value</th>\n",
       "      <th>facades_number_count</th>\n",
       "      <th>swimming_pool_has_value</th>\n",
       "      <th>swimming_pool_has_count</th>\n",
       "      <th>building_state_value</th>\n",
       "      <th>building_state_count</th>\n",
       "      <th>region_value</th>\n",
       "      <th>region_count</th>\n",
       "    </tr>\n",
       "  </thead>\n",
       "  <tbody>\n",
       "    <tr>\n",
       "      <th>0</th>\n",
       "      <td>unknown</td>\n",
       "      <td>20197.0</td>\n",
       "      <td>1.0</td>\n",
       "      <td>24581.0</td>\n",
       "      <td>HOUSE</td>\n",
       "      <td>19177.0</td>\n",
       "      <td>295000.0</td>\n",
       "      <td>598.0</td>\n",
       "      <td>Unknown</td>\n",
       "      <td>37704.0</td>\n",
       "      <td>...</td>\n",
       "      <td>0.0</td>\n",
       "      <td>1902</td>\n",
       "      <td>0.0</td>\n",
       "      <td>17138.0</td>\n",
       "      <td>0.0</td>\n",
       "      <td>40604.0</td>\n",
       "      <td>Not specified</td>\n",
       "      <td>23831.0</td>\n",
       "      <td>unknown</td>\n",
       "      <td>20197.0</td>\n",
       "    </tr>\n",
       "    <tr>\n",
       "      <th>1</th>\n",
       "      <td>8300</td>\n",
       "      <td>1166.0</td>\n",
       "      <td>0.0</td>\n",
       "      <td>20721.0</td>\n",
       "      <td>APARTMENT</td>\n",
       "      <td>13752.0</td>\n",
       "      <td>199000.0</td>\n",
       "      <td>569.0</td>\n",
       "      <td>residential_sale</td>\n",
       "      <td>9537.0</td>\n",
       "      <td>...</td>\n",
       "      <td>100.0</td>\n",
       "      <td>353</td>\n",
       "      <td>2.0</td>\n",
       "      <td>10273.0</td>\n",
       "      <td>1.0</td>\n",
       "      <td>1466.0</td>\n",
       "      <td>AS_NEW</td>\n",
       "      <td>11075.0</td>\n",
       "      <td>Flanders</td>\n",
       "      <td>14462.0</td>\n",
       "    </tr>\n",
       "    <tr>\n",
       "      <th>2</th>\n",
       "      <td>1180</td>\n",
       "      <td>940.0</td>\n",
       "      <td>NaN</td>\n",
       "      <td>NaN</td>\n",
       "      <td>VILLA</td>\n",
       "      <td>3748.0</td>\n",
       "      <td>299000.0</td>\n",
       "      <td>562.0</td>\n",
       "      <td>first_session_with_reserve_price</td>\n",
       "      <td>622.0</td>\n",
       "      <td>...</td>\n",
       "      <td>90.0</td>\n",
       "      <td>313</td>\n",
       "      <td>4.0</td>\n",
       "      <td>7164.0</td>\n",
       "      <td>NaN</td>\n",
       "      <td>NaN</td>\n",
       "      <td>GOOD</td>\n",
       "      <td>7654.0</td>\n",
       "      <td>Wallonia</td>\n",
       "      <td>8438.0</td>\n",
       "    </tr>\n",
       "    <tr>\n",
       "      <th>3</th>\n",
       "      <td>1000</td>\n",
       "      <td>729.0</td>\n",
       "      <td>NaN</td>\n",
       "      <td>NaN</td>\n",
       "      <td>APARTMENT_BLOCK</td>\n",
       "      <td>1912.0</td>\n",
       "      <td>249000.0</td>\n",
       "      <td>558.0</td>\n",
       "      <td>Public Sale</td>\n",
       "      <td>172.0</td>\n",
       "      <td>...</td>\n",
       "      <td>120.0</td>\n",
       "      <td>291</td>\n",
       "      <td>3.0</td>\n",
       "      <td>5489.0</td>\n",
       "      <td>NaN</td>\n",
       "      <td>NaN</td>\n",
       "      <td>TO_BE_DONE_UP</td>\n",
       "      <td>2049.0</td>\n",
       "      <td>Brussels</td>\n",
       "      <td>5029.0</td>\n",
       "    </tr>\n",
       "    <tr>\n",
       "      <th>4</th>\n",
       "      <td>1050</td>\n",
       "      <td>684.0</td>\n",
       "      <td>NaN</td>\n",
       "      <td>NaN</td>\n",
       "      <td>MIXED_USE_BUILDING</td>\n",
       "      <td>1711.0</td>\n",
       "      <td>275000.0</td>\n",
       "      <td>555.0</td>\n",
       "      <td>annuity_monthly_amount</td>\n",
       "      <td>73.0</td>\n",
       "      <td>...</td>\n",
       "      <td>70.0</td>\n",
       "      <td>290</td>\n",
       "      <td>1.0</td>\n",
       "      <td>241.0</td>\n",
       "      <td>NaN</td>\n",
       "      <td>NaN</td>\n",
       "      <td>TO_RENOVATE</td>\n",
       "      <td>1777.0</td>\n",
       "      <td>NaN</td>\n",
       "      <td>NaN</td>\n",
       "    </tr>\n",
       "    <tr>\n",
       "      <th>5</th>\n",
       "      <td>9000</td>\n",
       "      <td>568.0</td>\n",
       "      <td>NaN</td>\n",
       "      <td>NaN</td>\n",
       "      <td>DUPLEX</td>\n",
       "      <td>1201.0</td>\n",
       "      <td>225000.0</td>\n",
       "      <td>538.0</td>\n",
       "      <td>Notary Sale</td>\n",
       "      <td>13.0</td>\n",
       "      <td>...</td>\n",
       "      <td>80.0</td>\n",
       "      <td>289</td>\n",
       "      <td>10.0</td>\n",
       "      <td>2.0</td>\n",
       "      <td>NaN</td>\n",
       "      <td>NaN</td>\n",
       "      <td>JUST_RENOVATED</td>\n",
       "      <td>1617.0</td>\n",
       "      <td>NaN</td>\n",
       "      <td>NaN</td>\n",
       "    </tr>\n",
       "    <tr>\n",
       "      <th>6</th>\n",
       "      <td>8400</td>\n",
       "      <td>454.0</td>\n",
       "      <td>NaN</td>\n",
       "      <td>NaN</td>\n",
       "      <td>PENTHOUSE</td>\n",
       "      <td>1078.0</td>\n",
       "      <td>395000.0</td>\n",
       "      <td>517.0</td>\n",
       "      <td>last_session_reached_price_min_overbid</td>\n",
       "      <td>2.0</td>\n",
       "      <td>...</td>\n",
       "      <td>110.0</td>\n",
       "      <td>263</td>\n",
       "      <td>6.0</td>\n",
       "      <td>1.0</td>\n",
       "      <td>NaN</td>\n",
       "      <td>NaN</td>\n",
       "      <td>TO_RESTORE</td>\n",
       "      <td>123.0</td>\n",
       "      <td>NaN</td>\n",
       "      <td>NaN</td>\n",
       "    </tr>\n",
       "    <tr>\n",
       "      <th>7</th>\n",
       "      <td>4000</td>\n",
       "      <td>330.0</td>\n",
       "      <td>NaN</td>\n",
       "      <td>NaN</td>\n",
       "      <td>GROUND_FLOOR</td>\n",
       "      <td>882.0</td>\n",
       "      <td>325000.0</td>\n",
       "      <td>457.0</td>\n",
       "      <td>final_public_sale</td>\n",
       "      <td>2.0</td>\n",
       "      <td>...</td>\n",
       "      <td>150.0</td>\n",
       "      <td>256</td>\n",
       "      <td>NaN</td>\n",
       "      <td>NaN</td>\n",
       "      <td>NaN</td>\n",
       "      <td>NaN</td>\n",
       "      <td>NaN</td>\n",
       "      <td>NaN</td>\n",
       "      <td>NaN</td>\n",
       "      <td>NaN</td>\n",
       "    </tr>\n",
       "    <tr>\n",
       "      <th>8</th>\n",
       "      <td>1150</td>\n",
       "      <td>297.0</td>\n",
       "      <td>NaN</td>\n",
       "      <td>NaN</td>\n",
       "      <td>EXCEPTIONAL_PROPERTY</td>\n",
       "      <td>678.0</td>\n",
       "      <td>250000.0</td>\n",
       "      <td>442.0</td>\n",
       "      <td>annuity_lump_sum</td>\n",
       "      <td>1.0</td>\n",
       "      <td>...</td>\n",
       "      <td>85.0</td>\n",
       "      <td>223</td>\n",
       "      <td>NaN</td>\n",
       "      <td>NaN</td>\n",
       "      <td>NaN</td>\n",
       "      <td>NaN</td>\n",
       "      <td>NaN</td>\n",
       "      <td>NaN</td>\n",
       "      <td>NaN</td>\n",
       "      <td>NaN</td>\n",
       "    </tr>\n",
       "    <tr>\n",
       "      <th>9</th>\n",
       "      <td>1200</td>\n",
       "      <td>291.0</td>\n",
       "      <td>NaN</td>\n",
       "      <td>NaN</td>\n",
       "      <td>FLAT_STUDIO</td>\n",
       "      <td>646.0</td>\n",
       "      <td>195000.0</td>\n",
       "      <td>442.0</td>\n",
       "      <td>NaN</td>\n",
       "      <td>NaN</td>\n",
       "      <td>...</td>\n",
       "      <td>75.0</td>\n",
       "      <td>210</td>\n",
       "      <td>NaN</td>\n",
       "      <td>NaN</td>\n",
       "      <td>NaN</td>\n",
       "      <td>NaN</td>\n",
       "      <td>NaN</td>\n",
       "      <td>NaN</td>\n",
       "      <td>NaN</td>\n",
       "      <td>NaN</td>\n",
       "    </tr>\n",
       "    <tr>\n",
       "      <th>10</th>\n",
       "      <td>1070</td>\n",
       "      <td>283.0</td>\n",
       "      <td>NaN</td>\n",
       "      <td>NaN</td>\n",
       "      <td>MANSION</td>\n",
       "      <td>597.0</td>\n",
       "      <td>349000.0</td>\n",
       "      <td>427.0</td>\n",
       "      <td>NaN</td>\n",
       "      <td>NaN</td>\n",
       "      <td>...</td>\n",
       "      <td>200.0</td>\n",
       "      <td>201</td>\n",
       "      <td>NaN</td>\n",
       "      <td>NaN</td>\n",
       "      <td>NaN</td>\n",
       "      <td>NaN</td>\n",
       "      <td>NaN</td>\n",
       "      <td>NaN</td>\n",
       "      <td>NaN</td>\n",
       "      <td>NaN</td>\n",
       "    </tr>\n",
       "    <tr>\n",
       "      <th>11</th>\n",
       "      <td>8370</td>\n",
       "      <td>268.0</td>\n",
       "      <td>NaN</td>\n",
       "      <td>NaN</td>\n",
       "      <td>TOWN_HOUSE</td>\n",
       "      <td>306.0</td>\n",
       "      <td>245000.0</td>\n",
       "      <td>410.0</td>\n",
       "      <td>NaN</td>\n",
       "      <td>NaN</td>\n",
       "      <td>...</td>\n",
       "      <td>60.0</td>\n",
       "      <td>197</td>\n",
       "      <td>NaN</td>\n",
       "      <td>NaN</td>\n",
       "      <td>NaN</td>\n",
       "      <td>NaN</td>\n",
       "      <td>NaN</td>\n",
       "      <td>NaN</td>\n",
       "      <td>NaN</td>\n",
       "      <td>NaN</td>\n",
       "    </tr>\n",
       "    <tr>\n",
       "      <th>12</th>\n",
       "      <td>1030</td>\n",
       "      <td>263.0</td>\n",
       "      <td>NaN</td>\n",
       "      <td>NaN</td>\n",
       "      <td>COUNTRY_COTTAGE</td>\n",
       "      <td>255.0</td>\n",
       "      <td>175000.0</td>\n",
       "      <td>394.0</td>\n",
       "      <td>NaN</td>\n",
       "      <td>NaN</td>\n",
       "      <td>...</td>\n",
       "      <td>130.0</td>\n",
       "      <td>192</td>\n",
       "      <td>NaN</td>\n",
       "      <td>NaN</td>\n",
       "      <td>NaN</td>\n",
       "      <td>NaN</td>\n",
       "      <td>NaN</td>\n",
       "      <td>NaN</td>\n",
       "      <td>NaN</td>\n",
       "      <td>NaN</td>\n",
       "    </tr>\n",
       "    <tr>\n",
       "      <th>13</th>\n",
       "      <td>4500</td>\n",
       "      <td>258.0</td>\n",
       "      <td>NaN</td>\n",
       "      <td>NaN</td>\n",
       "      <td>LOFT</td>\n",
       "      <td>177.0</td>\n",
       "      <td>495000.0</td>\n",
       "      <td>389.0</td>\n",
       "      <td>NaN</td>\n",
       "      <td>NaN</td>\n",
       "      <td>...</td>\n",
       "      <td>160.0</td>\n",
       "      <td>186</td>\n",
       "      <td>NaN</td>\n",
       "      <td>NaN</td>\n",
       "      <td>NaN</td>\n",
       "      <td>NaN</td>\n",
       "      <td>NaN</td>\n",
       "      <td>NaN</td>\n",
       "      <td>NaN</td>\n",
       "      <td>NaN</td>\n",
       "    </tr>\n",
       "  </tbody>\n",
       "</table>\n",
       "<p>14 rows × 40 columns</p>\n",
       "</div>"
      ],
      "text/plain": [
       "   locality_value  locality_count  house_is_value  house_is_count  \\\n",
       "0         unknown         20197.0             1.0         24581.0   \n",
       "1            8300          1166.0             0.0         20721.0   \n",
       "2            1180           940.0             NaN             NaN   \n",
       "3            1000           729.0             NaN             NaN   \n",
       "4            1050           684.0             NaN             NaN   \n",
       "5            9000           568.0             NaN             NaN   \n",
       "6            8400           454.0             NaN             NaN   \n",
       "7            4000           330.0             NaN             NaN   \n",
       "8            1150           297.0             NaN             NaN   \n",
       "9            1200           291.0             NaN             NaN   \n",
       "10           1070           283.0             NaN             NaN   \n",
       "11           8370           268.0             NaN             NaN   \n",
       "12           1030           263.0             NaN             NaN   \n",
       "13           4500           258.0             NaN             NaN   \n",
       "\n",
       "   property_subtype_value  property_subtype_count  price_value  price_count  \\\n",
       "0                   HOUSE                 19177.0     295000.0        598.0   \n",
       "1               APARTMENT                 13752.0     199000.0        569.0   \n",
       "2                   VILLA                  3748.0     299000.0        562.0   \n",
       "3         APARTMENT_BLOCK                  1912.0     249000.0        558.0   \n",
       "4      MIXED_USE_BUILDING                  1711.0     275000.0        555.0   \n",
       "5                  DUPLEX                  1201.0     225000.0        538.0   \n",
       "6               PENTHOUSE                  1078.0     395000.0        517.0   \n",
       "7            GROUND_FLOOR                   882.0     325000.0        457.0   \n",
       "8    EXCEPTIONAL_PROPERTY                   678.0     250000.0        442.0   \n",
       "9             FLAT_STUDIO                   646.0     195000.0        442.0   \n",
       "10                MANSION                   597.0     349000.0        427.0   \n",
       "11             TOWN_HOUSE                   306.0     245000.0        410.0   \n",
       "12        COUNTRY_COTTAGE                   255.0     175000.0        394.0   \n",
       "13                   LOFT                   177.0     495000.0        389.0   \n",
       "\n",
       "                                sale_value  sale_count  ...  \\\n",
       "0                                  Unknown     37704.0  ...   \n",
       "1                         residential_sale      9537.0  ...   \n",
       "2         first_session_with_reserve_price       622.0  ...   \n",
       "3                              Public Sale       172.0  ...   \n",
       "4                   annuity_monthly_amount        73.0  ...   \n",
       "5                              Notary Sale        13.0  ...   \n",
       "6   last_session_reached_price_min_overbid         2.0  ...   \n",
       "7                        final_public_sale         2.0  ...   \n",
       "8                         annuity_lump_sum         1.0  ...   \n",
       "9                                      NaN         NaN  ...   \n",
       "10                                     NaN         NaN  ...   \n",
       "11                                     NaN         NaN  ...   \n",
       "12                                     NaN         NaN  ...   \n",
       "13                                     NaN         NaN  ...   \n",
       "\n",
       "    land_plot_surface_value  land_plot_surface_count  facades_number_value  \\\n",
       "0                       0.0                     1902                   0.0   \n",
       "1                     100.0                      353                   2.0   \n",
       "2                      90.0                      313                   4.0   \n",
       "3                     120.0                      291                   3.0   \n",
       "4                      70.0                      290                   1.0   \n",
       "5                      80.0                      289                  10.0   \n",
       "6                     110.0                      263                   6.0   \n",
       "7                     150.0                      256                   NaN   \n",
       "8                      85.0                      223                   NaN   \n",
       "9                      75.0                      210                   NaN   \n",
       "10                    200.0                      201                   NaN   \n",
       "11                     60.0                      197                   NaN   \n",
       "12                    130.0                      192                   NaN   \n",
       "13                    160.0                      186                   NaN   \n",
       "\n",
       "    facades_number_count  swimming_pool_has_value  swimming_pool_has_count  \\\n",
       "0                17138.0                      0.0                  40604.0   \n",
       "1                10273.0                      1.0                   1466.0   \n",
       "2                 7164.0                      NaN                      NaN   \n",
       "3                 5489.0                      NaN                      NaN   \n",
       "4                  241.0                      NaN                      NaN   \n",
       "5                    2.0                      NaN                      NaN   \n",
       "6                    1.0                      NaN                      NaN   \n",
       "7                    NaN                      NaN                      NaN   \n",
       "8                    NaN                      NaN                      NaN   \n",
       "9                    NaN                      NaN                      NaN   \n",
       "10                   NaN                      NaN                      NaN   \n",
       "11                   NaN                      NaN                      NaN   \n",
       "12                   NaN                      NaN                      NaN   \n",
       "13                   NaN                      NaN                      NaN   \n",
       "\n",
       "    building_state_value  building_state_count  region_value  region_count  \n",
       "0          Not specified               23831.0       unknown       20197.0  \n",
       "1                 AS_NEW               11075.0      Flanders       14462.0  \n",
       "2                   GOOD                7654.0      Wallonia        8438.0  \n",
       "3          TO_BE_DONE_UP                2049.0      Brussels        5029.0  \n",
       "4            TO_RENOVATE                1777.0           NaN           NaN  \n",
       "5         JUST_RENOVATED                1617.0           NaN           NaN  \n",
       "6             TO_RESTORE                 123.0           NaN           NaN  \n",
       "7                    NaN                   NaN           NaN           NaN  \n",
       "8                    NaN                   NaN           NaN           NaN  \n",
       "9                    NaN                   NaN           NaN           NaN  \n",
       "10                   NaN                   NaN           NaN           NaN  \n",
       "11                   NaN                   NaN           NaN           NaN  \n",
       "12                   NaN                   NaN           NaN           NaN  \n",
       "13                   NaN                   NaN           NaN           NaN  \n",
       "\n",
       "[14 rows x 40 columns]"
      ]
     },
     "execution_count": 1369,
     "metadata": {},
     "output_type": "execute_result"
    }
   ],
   "source": [
    "uniques = pd.DataFrame()\n",
    "for col in df:\n",
    "    col_uniques = pd.DataFrame({f'{col}_value': df[f'{col}'].value_counts().index,\n",
    "                                f'{col}_count': df[f'{col}'].value_counts().values})\n",
    "    uniques = pd.concat([uniques, col_uniques], axis = 1)\n",
    "\n",
    "uniques.head(14)"
   ]
  },
  {
   "cell_type": "code",
   "execution_count": 1370,
   "metadata": {},
   "outputs": [],
   "source": [
    "df.to_csv('../csv_files/cleaned_properties.csv')"
   ]
  },
  {
   "cell_type": "code",
   "execution_count": null,
   "metadata": {},
   "outputs": [],
   "source": []
  },
  {
   "cell_type": "code",
   "execution_count": null,
   "metadata": {},
   "outputs": [],
   "source": []
  },
  {
   "cell_type": "code",
   "execution_count": null,
   "metadata": {},
   "outputs": [],
   "source": []
  },
  {
   "cell_type": "code",
   "execution_count": null,
   "metadata": {},
   "outputs": [],
   "source": []
  },
  {
   "cell_type": "code",
   "execution_count": null,
   "metadata": {},
   "outputs": [],
   "source": []
  },
  {
   "cell_type": "code",
   "execution_count": null,
   "metadata": {},
   "outputs": [],
   "source": []
  }
 ],
 "metadata": {
  "kernelspec": {
   "display_name": "Python 3",
   "language": "python",
   "name": "python3"
  },
  "language_info": {
   "codemirror_mode": {
    "name": "ipython",
    "version": 3
   },
   "file_extension": ".py",
   "mimetype": "text/x-python",
   "name": "python",
   "nbconvert_exporter": "python",
   "pygments_lexer": "ipython3",
   "version": "3.7.3"
  }
 },
 "nbformat": 4,
 "nbformat_minor": 2
}
